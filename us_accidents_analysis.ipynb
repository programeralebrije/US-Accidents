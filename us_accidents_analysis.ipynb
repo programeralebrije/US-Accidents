{
  "cells": [
    {
      "cell_type": "code",
      "execution_count": 8,
      "metadata": {
        "id": "yUTBoI1N6ix0"
      },
      "outputs": [],
      "source": [
        "# Jovian Commit Essentials\n",
        "# Please retain and execute this cell without modifying the contents for `jovian.commit` to work\n",
        "!pip install jovian --upgrade -q\n",
        "import jovian\n",
        "jovian.set_project('us-accidents-analysis')\n",
        "jovian.set_colab_id('1I3kJXMIWRP1z4AJJNWD1pA6NsEKSlpND')"
      ]
    },
    {
      "cell_type": "markdown",
      "metadata": {
        "id": "1FosYx866ix3"
      },
      "source": [
        "# US Accidents Exploratory Analysis\n",
        "\n",
        "To Do - talk about the dataset(source, what it contains, how it will be useful)\n",
        "  - The dataset comes from Kaggle\n",
        "  - It contains information about accidents in the United States\n",
        "  - It can be useful to help prevent accidents \n",
        "  - TODO talk about EDA\n",
        "  - Source [Kaggle](https://www.kaggle.com/sobhanmoosavi/us-accidents)\n",
        "  - Mention that this data set don’t include data for New York \n",
        "\n",
        "US-Accidents can be used for numerous applications such as real-time car accident prediction, studying car accidents hotspot locations, casualty analysis and extracting cause and effect rules to predict car accidents, and studying the impact of precipitation or other environmental stimuli on accident occurrence. The most recent release of the dataset can also be useful to study the impact of COVID-19 on traffic behavior and accidents.\n",
        "\n",
        "4.2 million POINTS "
      ]
    },
    {
      "cell_type": "markdown",
      "metadata": {
        "id": "wloRajDKSV5K"
      },
      "source": [
        "##Acknowledgements"
      ]
    },
    {
      "cell_type": "markdown",
      "metadata": {
        "id": "vTm-pDAESJl0"
      },
      "source": [
        " \n",
        "  Moosavi, Sobhan, Mohammad Hossein Samavatian, Srinivasan Parthasarathy, and Rajiv Ramnath. “A Countrywide Traffic Accident Dataset.”, 2019.\n",
        "\n",
        "Moosavi, Sobhan, Mohammad Hossein Samavatian, Srinivasan Parthasarathy, Radu Teodorescu, and Rajiv Ramnath. \"Accident Risk Prediction based on Heterogeneous Sparse Data: New Dataset and Insights.\" In proceedings of the 27th ACM SIGSPATIAL International Conference on Advances in Geographic Information Systems, ACM, 2019."
      ]
    },
    {
      "cell_type": "markdown",
      "metadata": {
        "id": "oTDlKDieSgMa"
      },
      "source": [
        "##Participants "
      ]
    },
    {
      "cell_type": "markdown",
      "metadata": {
        "id": "K4CKzR0MSlP0"
      },
      "source": [
        "##Victoria Larrazolo\n",
        "##Ruben Larrazolo"
      ]
    },
    {
      "cell_type": "code",
      "execution_count": 9,
      "metadata": {
        "id": "JWwgzbRx6ix5"
      },
      "outputs": [],
      "source": [
        "!pip install jovian --upgrade --quiet"
      ]
    },
    {
      "cell_type": "code",
      "execution_count": 10,
      "metadata": {
        "id": "Gm4x4Wh86ix6"
      },
      "outputs": [],
      "source": [
        "import jovian"
      ]
    },
    {
      "cell_type": "code",
      "execution_count": 12,
      "metadata": {
        "colab": {
          "base_uri": "https://localhost:8080/",
          "height": 364
        },
        "id": "Aa8DOMpK6ix6",
        "outputId": "d2a7b11f-6e8b-4e70-99e0-fda915ee60b0"
      },
      "outputs": [
        {
          "output_type": "stream",
          "name": "stdout",
          "text": [
            "[jovian] Detected Colab notebook...\u001b[0m\n",
            "[jovian] Uploading colab notebook to Jovian...\u001b[0m\n"
          ]
        },
        {
          "output_type": "error",
          "ename": "ApiError",
          "evalue": "ignored",
          "traceback": [
            "\u001b[0;31m---------------------------------------------------------------------------\u001b[0m",
            "\u001b[0;31mApiError\u001b[0m                                  Traceback (most recent call last)",
            "\u001b[0;32m<ipython-input-12-52e176fccfd3>\u001b[0m in \u001b[0;36m<module>\u001b[0;34m()\u001b[0m\n\u001b[1;32m      1\u001b[0m \u001b[0;31m# Execute this to save new versions of the notebook\u001b[0m\u001b[0;34m\u001b[0m\u001b[0;34m\u001b[0m\u001b[0;34m\u001b[0m\u001b[0m\n\u001b[0;32m----> 2\u001b[0;31m \u001b[0mjovian\u001b[0m\u001b[0;34m.\u001b[0m\u001b[0mcommit\u001b[0m\u001b[0;34m(\u001b[0m\u001b[0mproject\u001b[0m\u001b[0;34m=\u001b[0m\u001b[0;34m\"us-accidents-analysis\"\u001b[0m\u001b[0;34m)\u001b[0m\u001b[0;34m\u001b[0m\u001b[0;34m\u001b[0m\u001b[0m\n\u001b[0m",
            "\u001b[0;32m/usr/local/lib/python3.7/dist-packages/jovian/utils/commit.py\u001b[0m in \u001b[0;36mcommit\u001b[0;34m(message, files, outputs, environment, privacy, filename, project, new_project, git_commit, git_message, **kwargs)\u001b[0m\n\u001b[1;32m    140\u001b[0m             \u001b[0;32mreturn\u001b[0m\u001b[0;34m\u001b[0m\u001b[0;34m\u001b[0m\u001b[0m\n\u001b[1;32m    141\u001b[0m \u001b[0;34m\u001b[0m\u001b[0m\n\u001b[0;32m--> 142\u001b[0;31m         \u001b[0mres\u001b[0m \u001b[0;34m=\u001b[0m \u001b[0mperform_colab_commit\u001b[0m\u001b[0;34m(\u001b[0m\u001b[0mproject\u001b[0m\u001b[0;34m,\u001b[0m \u001b[0mprivacy\u001b[0m\u001b[0;34m)\u001b[0m\u001b[0;34m\u001b[0m\u001b[0;34m\u001b[0m\u001b[0m\n\u001b[0m\u001b[1;32m    143\u001b[0m         \u001b[0mslug\u001b[0m\u001b[0;34m,\u001b[0m \u001b[0musername\u001b[0m\u001b[0;34m,\u001b[0m \u001b[0mversion\u001b[0m\u001b[0;34m,\u001b[0m \u001b[0mtitle\u001b[0m \u001b[0;34m=\u001b[0m \u001b[0mres\u001b[0m\u001b[0;34m[\u001b[0m\u001b[0;34m'slug'\u001b[0m\u001b[0;34m]\u001b[0m\u001b[0;34m,\u001b[0m \u001b[0mres\u001b[0m\u001b[0;34m[\u001b[0m\u001b[0;34m'owner'\u001b[0m\u001b[0;34m]\u001b[0m\u001b[0;34m[\u001b[0m\u001b[0;34m'username'\u001b[0m\u001b[0;34m]\u001b[0m\u001b[0;34m,\u001b[0m \u001b[0mres\u001b[0m\u001b[0;34m[\u001b[0m\u001b[0;34m'version'\u001b[0m\u001b[0;34m]\u001b[0m\u001b[0;34m,\u001b[0m \u001b[0mres\u001b[0m\u001b[0;34m[\u001b[0m\u001b[0;34m'title'\u001b[0m\u001b[0;34m]\u001b[0m\u001b[0;34m\u001b[0m\u001b[0;34m\u001b[0m\u001b[0m\n\u001b[1;32m    144\u001b[0m \u001b[0;34m\u001b[0m\u001b[0m\n",
            "\u001b[0;32m/usr/local/lib/python3.7/dist-packages/jovian/utils/colab.py\u001b[0m in \u001b[0;36mperform_colab_commit\u001b[0;34m(project, privacy)\u001b[0m\n\u001b[1;32m     48\u001b[0m             \u001b[0mlog\u001b[0m\u001b[0;34m(\u001b[0m\u001b[0mwarning\u001b[0m\u001b[0;34m,\u001b[0m \u001b[0merror\u001b[0m\u001b[0;34m=\u001b[0m\u001b[0;32mTrue\u001b[0m\u001b[0;34m)\u001b[0m\u001b[0;34m\u001b[0m\u001b[0;34m\u001b[0m\u001b[0m\n\u001b[1;32m     49\u001b[0m         \u001b[0;32mreturn\u001b[0m \u001b[0mdata\u001b[0m\u001b[0;34m\u001b[0m\u001b[0;34m\u001b[0m\u001b[0m\n\u001b[0;32m---> 50\u001b[0;31m     \u001b[0;32mraise\u001b[0m \u001b[0mApiError\u001b[0m\u001b[0;34m(\u001b[0m\u001b[0;34m'Colab commit failed: '\u001b[0m \u001b[0;34m+\u001b[0m \u001b[0mpretty\u001b[0m\u001b[0;34m(\u001b[0m\u001b[0mres\u001b[0m\u001b[0;34m)\u001b[0m\u001b[0;34m)\u001b[0m\u001b[0;34m\u001b[0m\u001b[0;34m\u001b[0m\u001b[0m\n\u001b[0m",
            "\u001b[0;31mApiError\u001b[0m: Colab commit failed: (HTTP 403) Please integrate your Google Drive with your Jovian account"
          ]
        }
      ],
      "source": [
        "# Execute this to save new versions of the notebook\n",
        "jovian.commit(project=\"us-accidents-analysis\")"
      ]
    },
    {
      "cell_type": "code",
      "execution_count": 23,
      "metadata": {
        "id": "e5f2RFxC6ix6"
      },
      "outputs": [],
      "source": [
        "pip install opendatasets --upgrade --quiet\n"
      ]
    },
    {
      "cell_type": "markdown",
      "metadata": {
        "id": "BD1gFhN0OCb6"
      },
      "source": [
        "# Tasks"
      ]
    },
    {
      "cell_type": "markdown",
      "metadata": {
        "id": "hftpB7d9K6-l"
      },
      "source": [
        "\n",
        "*   Perform data preparation & cleaning using Pandas & Numpy\n",
        "*   Perform exploratory analysis & visualization using Matplotlib & Seaborn\n",
        "*   Ask & answer questions about the data in a Jupyter notebook\n",
        "*   Summarize your inferences & write a conclusion\n",
        "*   Document, publish and present and your Jupyter notebook online"
      ]
    },
    {
      "cell_type": "markdown",
      "metadata": {
        "id": "1nD3Tgz1OMfn"
      },
      "source": [
        "## Import Data"
      ]
    },
    {
      "cell_type": "code",
      "execution_count": 24,
      "metadata": {
        "colab": {
          "base_uri": "https://localhost:8080/"
        },
        "id": "aDA_GsA68_h1",
        "outputId": "6e02ca73-5e3f-4b00-ef5e-822ba60ee971"
      },
      "outputs": [
        {
          "output_type": "stream",
          "name": "stdout",
          "text": [
            "Please provide your Kaggle credentials to download this dataset. Learn more: http://bit.ly/kaggle-creds\n",
            "Your Kaggle username: rubenlarrazolo\n",
            "Your Kaggle Key: ··········\n",
            "Downloading us-accidents.zip to ./us-accidents\n"
          ]
        },
        {
          "output_type": "stream",
          "name": "stderr",
          "text": [
            "100%|██████████| 117M/117M [00:00<00:00, 130MB/s]"
          ]
        },
        {
          "output_type": "stream",
          "name": "stdout",
          "text": [
            "\n"
          ]
        },
        {
          "output_type": "stream",
          "name": "stderr",
          "text": [
            "\n"
          ]
        }
      ],
      "source": [
        "import opendatasets as od\n",
        "\n",
        "download_url = 'https://www.kaggle.com/sobhanmoosavi/us-accidents'\n",
        "\n",
        "od.download(download_url)"
      ]
    },
    {
      "cell_type": "code",
      "execution_count": 14,
      "metadata": {
        "id": "kj6vucPear_6"
      },
      "outputs": [],
      "source": [
        "data_filename = '/content/us-accidents/US_Accidents_Dec20_updated.csv'"
      ]
    },
    {
      "cell_type": "markdown",
      "metadata": {
        "id": "BHxUFopBPXI5"
      },
      "source": [
        "##Perform data preparation & cleaning using Pandas & Numpy\n",
        "  1. Load the file using Pandas\n",
        "  2. Look at some information about the data and the columns\n",
        "  3. Fix any missing or incorrect vlaues \n"
      ]
    },
    {
      "cell_type": "code",
      "execution_count": 15,
      "metadata": {
        "id": "jVPN5kKANgXw"
      },
      "outputs": [],
      "source": [
        "import pandas as pd"
      ]
    },
    {
      "cell_type": "code",
      "execution_count": 25,
      "metadata": {
        "id": "EcZCW41KPumQ"
      },
      "outputs": [],
      "source": [
        "df = pd.read_csv(data_filename)"
      ]
    },
    {
      "cell_type": "code",
      "execution_count": 26,
      "metadata": {
        "colab": {
          "base_uri": "https://localhost:8080/",
          "height": 939
        },
        "id": "4G9TgBeqPuXo",
        "outputId": "2d09b3d8-2ee0-4b49-e806-5451672e9db5"
      },
      "outputs": [
        {
          "output_type": "execute_result",
          "data": {
            "text/html": [
              "\n",
              "  <div id=\"df-5ac0f537-307f-4b56-bb7f-a4ef8fbf442a\">\n",
              "    <div class=\"colab-df-container\">\n",
              "      <div>\n",
              "<style scoped>\n",
              "    .dataframe tbody tr th:only-of-type {\n",
              "        vertical-align: middle;\n",
              "    }\n",
              "\n",
              "    .dataframe tbody tr th {\n",
              "        vertical-align: top;\n",
              "    }\n",
              "\n",
              "    .dataframe thead th {\n",
              "        text-align: right;\n",
              "    }\n",
              "</style>\n",
              "<table border=\"1\" class=\"dataframe\">\n",
              "  <thead>\n",
              "    <tr style=\"text-align: right;\">\n",
              "      <th></th>\n",
              "      <th>ID</th>\n",
              "      <th>Severity</th>\n",
              "      <th>Start_Time</th>\n",
              "      <th>End_Time</th>\n",
              "      <th>Start_Lat</th>\n",
              "      <th>Start_Lng</th>\n",
              "      <th>End_Lat</th>\n",
              "      <th>End_Lng</th>\n",
              "      <th>Distance(mi)</th>\n",
              "      <th>Description</th>\n",
              "      <th>Number</th>\n",
              "      <th>Street</th>\n",
              "      <th>Side</th>\n",
              "      <th>City</th>\n",
              "      <th>County</th>\n",
              "      <th>State</th>\n",
              "      <th>Zipcode</th>\n",
              "      <th>Country</th>\n",
              "      <th>Timezone</th>\n",
              "      <th>Airport_Code</th>\n",
              "      <th>Weather_Timestamp</th>\n",
              "      <th>Temperature(F)</th>\n",
              "      <th>Wind_Chill(F)</th>\n",
              "      <th>Humidity(%)</th>\n",
              "      <th>Pressure(in)</th>\n",
              "      <th>Visibility(mi)</th>\n",
              "      <th>Wind_Direction</th>\n",
              "      <th>Wind_Speed(mph)</th>\n",
              "      <th>Precipitation(in)</th>\n",
              "      <th>Weather_Condition</th>\n",
              "      <th>Amenity</th>\n",
              "      <th>Bump</th>\n",
              "      <th>Crossing</th>\n",
              "      <th>Give_Way</th>\n",
              "      <th>Junction</th>\n",
              "      <th>No_Exit</th>\n",
              "      <th>Railway</th>\n",
              "      <th>Roundabout</th>\n",
              "      <th>Station</th>\n",
              "      <th>Stop</th>\n",
              "      <th>Traffic_Calming</th>\n",
              "      <th>Traffic_Signal</th>\n",
              "      <th>Turning_Loop</th>\n",
              "      <th>Sunrise_Sunset</th>\n",
              "      <th>Civil_Twilight</th>\n",
              "      <th>Nautical_Twilight</th>\n",
              "      <th>Astronomical_Twilight</th>\n",
              "    </tr>\n",
              "  </thead>\n",
              "  <tbody>\n",
              "    <tr>\n",
              "      <th>0</th>\n",
              "      <td>A-2716600</td>\n",
              "      <td>3</td>\n",
              "      <td>2016-02-08 00:37:08</td>\n",
              "      <td>2016-02-08 06:37:08</td>\n",
              "      <td>40.10891</td>\n",
              "      <td>-83.09286</td>\n",
              "      <td>40.11206</td>\n",
              "      <td>-83.03187</td>\n",
              "      <td>3.230</td>\n",
              "      <td>Between Sawmill Rd/Exit 20 and OH-315/Olentang...</td>\n",
              "      <td>NaN</td>\n",
              "      <td>Outerbelt E</td>\n",
              "      <td>R</td>\n",
              "      <td>Dublin</td>\n",
              "      <td>Franklin</td>\n",
              "      <td>OH</td>\n",
              "      <td>43017</td>\n",
              "      <td>US</td>\n",
              "      <td>US/Eastern</td>\n",
              "      <td>KOSU</td>\n",
              "      <td>2016-02-08 00:53:00</td>\n",
              "      <td>42.1</td>\n",
              "      <td>36.1</td>\n",
              "      <td>58.0</td>\n",
              "      <td>29.76</td>\n",
              "      <td>10.0</td>\n",
              "      <td>SW</td>\n",
              "      <td>10.4</td>\n",
              "      <td>0.00</td>\n",
              "      <td>Light Rain</td>\n",
              "      <td>False</td>\n",
              "      <td>False</td>\n",
              "      <td>False</td>\n",
              "      <td>False</td>\n",
              "      <td>False</td>\n",
              "      <td>False</td>\n",
              "      <td>False</td>\n",
              "      <td>False</td>\n",
              "      <td>False</td>\n",
              "      <td>False</td>\n",
              "      <td>False</td>\n",
              "      <td>False</td>\n",
              "      <td>False</td>\n",
              "      <td>Night</td>\n",
              "      <td>Night</td>\n",
              "      <td>Night</td>\n",
              "      <td>Night</td>\n",
              "    </tr>\n",
              "    <tr>\n",
              "      <th>1</th>\n",
              "      <td>A-2716601</td>\n",
              "      <td>2</td>\n",
              "      <td>2016-02-08 05:56:20</td>\n",
              "      <td>2016-02-08 11:56:20</td>\n",
              "      <td>39.86542</td>\n",
              "      <td>-84.06280</td>\n",
              "      <td>39.86501</td>\n",
              "      <td>-84.04873</td>\n",
              "      <td>0.747</td>\n",
              "      <td>At OH-4/OH-235/Exit 41 - Accident.</td>\n",
              "      <td>NaN</td>\n",
              "      <td>I-70 E</td>\n",
              "      <td>R</td>\n",
              "      <td>Dayton</td>\n",
              "      <td>Montgomery</td>\n",
              "      <td>OH</td>\n",
              "      <td>45424</td>\n",
              "      <td>US</td>\n",
              "      <td>US/Eastern</td>\n",
              "      <td>KFFO</td>\n",
              "      <td>2016-02-08 05:58:00</td>\n",
              "      <td>36.9</td>\n",
              "      <td>NaN</td>\n",
              "      <td>91.0</td>\n",
              "      <td>29.68</td>\n",
              "      <td>10.0</td>\n",
              "      <td>Calm</td>\n",
              "      <td>NaN</td>\n",
              "      <td>0.02</td>\n",
              "      <td>Light Rain</td>\n",
              "      <td>False</td>\n",
              "      <td>False</td>\n",
              "      <td>False</td>\n",
              "      <td>False</td>\n",
              "      <td>False</td>\n",
              "      <td>False</td>\n",
              "      <td>False</td>\n",
              "      <td>False</td>\n",
              "      <td>False</td>\n",
              "      <td>False</td>\n",
              "      <td>False</td>\n",
              "      <td>False</td>\n",
              "      <td>False</td>\n",
              "      <td>Night</td>\n",
              "      <td>Night</td>\n",
              "      <td>Night</td>\n",
              "      <td>Night</td>\n",
              "    </tr>\n",
              "    <tr>\n",
              "      <th>2</th>\n",
              "      <td>A-2716602</td>\n",
              "      <td>2</td>\n",
              "      <td>2016-02-08 06:15:39</td>\n",
              "      <td>2016-02-08 12:15:39</td>\n",
              "      <td>39.10266</td>\n",
              "      <td>-84.52468</td>\n",
              "      <td>39.10209</td>\n",
              "      <td>-84.52396</td>\n",
              "      <td>0.055</td>\n",
              "      <td>At I-71/US-50/Exit 1 - Accident.</td>\n",
              "      <td>NaN</td>\n",
              "      <td>I-75 S</td>\n",
              "      <td>R</td>\n",
              "      <td>Cincinnati</td>\n",
              "      <td>Hamilton</td>\n",
              "      <td>OH</td>\n",
              "      <td>45203</td>\n",
              "      <td>US</td>\n",
              "      <td>US/Eastern</td>\n",
              "      <td>KLUK</td>\n",
              "      <td>2016-02-08 05:53:00</td>\n",
              "      <td>36.0</td>\n",
              "      <td>NaN</td>\n",
              "      <td>97.0</td>\n",
              "      <td>29.70</td>\n",
              "      <td>10.0</td>\n",
              "      <td>Calm</td>\n",
              "      <td>NaN</td>\n",
              "      <td>0.02</td>\n",
              "      <td>Overcast</td>\n",
              "      <td>False</td>\n",
              "      <td>False</td>\n",
              "      <td>False</td>\n",
              "      <td>False</td>\n",
              "      <td>True</td>\n",
              "      <td>False</td>\n",
              "      <td>False</td>\n",
              "      <td>False</td>\n",
              "      <td>False</td>\n",
              "      <td>False</td>\n",
              "      <td>False</td>\n",
              "      <td>False</td>\n",
              "      <td>False</td>\n",
              "      <td>Night</td>\n",
              "      <td>Night</td>\n",
              "      <td>Night</td>\n",
              "      <td>Day</td>\n",
              "    </tr>\n",
              "    <tr>\n",
              "      <th>3</th>\n",
              "      <td>A-2716603</td>\n",
              "      <td>2</td>\n",
              "      <td>2016-02-08 06:15:39</td>\n",
              "      <td>2016-02-08 12:15:39</td>\n",
              "      <td>39.10148</td>\n",
              "      <td>-84.52341</td>\n",
              "      <td>39.09841</td>\n",
              "      <td>-84.52241</td>\n",
              "      <td>0.219</td>\n",
              "      <td>At I-71/US-50/Exit 1 - Accident.</td>\n",
              "      <td>NaN</td>\n",
              "      <td>US-50 E</td>\n",
              "      <td>R</td>\n",
              "      <td>Cincinnati</td>\n",
              "      <td>Hamilton</td>\n",
              "      <td>OH</td>\n",
              "      <td>45202</td>\n",
              "      <td>US</td>\n",
              "      <td>US/Eastern</td>\n",
              "      <td>KLUK</td>\n",
              "      <td>2016-02-08 05:53:00</td>\n",
              "      <td>36.0</td>\n",
              "      <td>NaN</td>\n",
              "      <td>97.0</td>\n",
              "      <td>29.70</td>\n",
              "      <td>10.0</td>\n",
              "      <td>Calm</td>\n",
              "      <td>NaN</td>\n",
              "      <td>0.02</td>\n",
              "      <td>Overcast</td>\n",
              "      <td>False</td>\n",
              "      <td>False</td>\n",
              "      <td>False</td>\n",
              "      <td>False</td>\n",
              "      <td>True</td>\n",
              "      <td>False</td>\n",
              "      <td>False</td>\n",
              "      <td>False</td>\n",
              "      <td>False</td>\n",
              "      <td>False</td>\n",
              "      <td>False</td>\n",
              "      <td>False</td>\n",
              "      <td>False</td>\n",
              "      <td>Night</td>\n",
              "      <td>Night</td>\n",
              "      <td>Night</td>\n",
              "      <td>Day</td>\n",
              "    </tr>\n",
              "    <tr>\n",
              "      <th>4</th>\n",
              "      <td>A-2716604</td>\n",
              "      <td>2</td>\n",
              "      <td>2016-02-08 06:51:45</td>\n",
              "      <td>2016-02-08 12:51:45</td>\n",
              "      <td>41.06213</td>\n",
              "      <td>-81.53784</td>\n",
              "      <td>41.06217</td>\n",
              "      <td>-81.53547</td>\n",
              "      <td>0.123</td>\n",
              "      <td>At Dart Ave/Exit 21 - Accident.</td>\n",
              "      <td>NaN</td>\n",
              "      <td>I-77 N</td>\n",
              "      <td>R</td>\n",
              "      <td>Akron</td>\n",
              "      <td>Summit</td>\n",
              "      <td>OH</td>\n",
              "      <td>44311</td>\n",
              "      <td>US</td>\n",
              "      <td>US/Eastern</td>\n",
              "      <td>KAKR</td>\n",
              "      <td>2016-02-08 06:54:00</td>\n",
              "      <td>39.0</td>\n",
              "      <td>NaN</td>\n",
              "      <td>55.0</td>\n",
              "      <td>29.65</td>\n",
              "      <td>10.0</td>\n",
              "      <td>Calm</td>\n",
              "      <td>NaN</td>\n",
              "      <td>NaN</td>\n",
              "      <td>Overcast</td>\n",
              "      <td>False</td>\n",
              "      <td>False</td>\n",
              "      <td>False</td>\n",
              "      <td>False</td>\n",
              "      <td>False</td>\n",
              "      <td>False</td>\n",
              "      <td>False</td>\n",
              "      <td>False</td>\n",
              "      <td>False</td>\n",
              "      <td>False</td>\n",
              "      <td>False</td>\n",
              "      <td>False</td>\n",
              "      <td>False</td>\n",
              "      <td>Night</td>\n",
              "      <td>Night</td>\n",
              "      <td>Day</td>\n",
              "      <td>Day</td>\n",
              "    </tr>\n",
              "    <tr>\n",
              "      <th>...</th>\n",
              "      <td>...</td>\n",
              "      <td>...</td>\n",
              "      <td>...</td>\n",
              "      <td>...</td>\n",
              "      <td>...</td>\n",
              "      <td>...</td>\n",
              "      <td>...</td>\n",
              "      <td>...</td>\n",
              "      <td>...</td>\n",
              "      <td>...</td>\n",
              "      <td>...</td>\n",
              "      <td>...</td>\n",
              "      <td>...</td>\n",
              "      <td>...</td>\n",
              "      <td>...</td>\n",
              "      <td>...</td>\n",
              "      <td>...</td>\n",
              "      <td>...</td>\n",
              "      <td>...</td>\n",
              "      <td>...</td>\n",
              "      <td>...</td>\n",
              "      <td>...</td>\n",
              "      <td>...</td>\n",
              "      <td>...</td>\n",
              "      <td>...</td>\n",
              "      <td>...</td>\n",
              "      <td>...</td>\n",
              "      <td>...</td>\n",
              "      <td>...</td>\n",
              "      <td>...</td>\n",
              "      <td>...</td>\n",
              "      <td>...</td>\n",
              "      <td>...</td>\n",
              "      <td>...</td>\n",
              "      <td>...</td>\n",
              "      <td>...</td>\n",
              "      <td>...</td>\n",
              "      <td>...</td>\n",
              "      <td>...</td>\n",
              "      <td>...</td>\n",
              "      <td>...</td>\n",
              "      <td>...</td>\n",
              "      <td>...</td>\n",
              "      <td>...</td>\n",
              "      <td>...</td>\n",
              "      <td>...</td>\n",
              "      <td>...</td>\n",
              "    </tr>\n",
              "    <tr>\n",
              "      <th>1516059</th>\n",
              "      <td>A-4239402</td>\n",
              "      <td>2</td>\n",
              "      <td>2019-08-23 18:03:25</td>\n",
              "      <td>2019-08-23 18:32:01</td>\n",
              "      <td>34.00248</td>\n",
              "      <td>-117.37936</td>\n",
              "      <td>33.99888</td>\n",
              "      <td>-117.37094</td>\n",
              "      <td>0.543</td>\n",
              "      <td>At Market St - Accident.</td>\n",
              "      <td>NaN</td>\n",
              "      <td>Pomona Fwy E</td>\n",
              "      <td>R</td>\n",
              "      <td>Riverside</td>\n",
              "      <td>Riverside</td>\n",
              "      <td>CA</td>\n",
              "      <td>92501</td>\n",
              "      <td>US</td>\n",
              "      <td>US/Pacific</td>\n",
              "      <td>KRAL</td>\n",
              "      <td>2019-08-23 17:53:00</td>\n",
              "      <td>86.0</td>\n",
              "      <td>86.0</td>\n",
              "      <td>40.0</td>\n",
              "      <td>28.92</td>\n",
              "      <td>10.0</td>\n",
              "      <td>W</td>\n",
              "      <td>13.0</td>\n",
              "      <td>0.00</td>\n",
              "      <td>Fair</td>\n",
              "      <td>False</td>\n",
              "      <td>False</td>\n",
              "      <td>False</td>\n",
              "      <td>False</td>\n",
              "      <td>False</td>\n",
              "      <td>False</td>\n",
              "      <td>False</td>\n",
              "      <td>False</td>\n",
              "      <td>False</td>\n",
              "      <td>False</td>\n",
              "      <td>False</td>\n",
              "      <td>False</td>\n",
              "      <td>False</td>\n",
              "      <td>Day</td>\n",
              "      <td>Day</td>\n",
              "      <td>Day</td>\n",
              "      <td>Day</td>\n",
              "    </tr>\n",
              "    <tr>\n",
              "      <th>1516060</th>\n",
              "      <td>A-4239403</td>\n",
              "      <td>2</td>\n",
              "      <td>2019-08-23 19:11:30</td>\n",
              "      <td>2019-08-23 19:38:23</td>\n",
              "      <td>32.76696</td>\n",
              "      <td>-117.14806</td>\n",
              "      <td>32.76555</td>\n",
              "      <td>-117.15363</td>\n",
              "      <td>0.338</td>\n",
              "      <td>At Camino Del Rio/Mission Center Rd - Accident.</td>\n",
              "      <td>NaN</td>\n",
              "      <td>I-8 W</td>\n",
              "      <td>R</td>\n",
              "      <td>San Diego</td>\n",
              "      <td>San Diego</td>\n",
              "      <td>CA</td>\n",
              "      <td>92108</td>\n",
              "      <td>US</td>\n",
              "      <td>US/Pacific</td>\n",
              "      <td>KMYF</td>\n",
              "      <td>2019-08-23 18:53:00</td>\n",
              "      <td>70.0</td>\n",
              "      <td>70.0</td>\n",
              "      <td>73.0</td>\n",
              "      <td>29.39</td>\n",
              "      <td>10.0</td>\n",
              "      <td>SW</td>\n",
              "      <td>6.0</td>\n",
              "      <td>0.00</td>\n",
              "      <td>Fair</td>\n",
              "      <td>False</td>\n",
              "      <td>False</td>\n",
              "      <td>False</td>\n",
              "      <td>False</td>\n",
              "      <td>False</td>\n",
              "      <td>False</td>\n",
              "      <td>False</td>\n",
              "      <td>False</td>\n",
              "      <td>False</td>\n",
              "      <td>False</td>\n",
              "      <td>False</td>\n",
              "      <td>False</td>\n",
              "      <td>False</td>\n",
              "      <td>Day</td>\n",
              "      <td>Day</td>\n",
              "      <td>Day</td>\n",
              "      <td>Day</td>\n",
              "    </tr>\n",
              "    <tr>\n",
              "      <th>1516061</th>\n",
              "      <td>A-4239404</td>\n",
              "      <td>2</td>\n",
              "      <td>2019-08-23 19:00:21</td>\n",
              "      <td>2019-08-23 19:28:49</td>\n",
              "      <td>33.77545</td>\n",
              "      <td>-117.84779</td>\n",
              "      <td>33.77740</td>\n",
              "      <td>-117.85727</td>\n",
              "      <td>0.561</td>\n",
              "      <td>At Glassell St/Grand Ave - Accident. in the ri...</td>\n",
              "      <td>NaN</td>\n",
              "      <td>Garden Grove Fwy</td>\n",
              "      <td>R</td>\n",
              "      <td>Orange</td>\n",
              "      <td>Orange</td>\n",
              "      <td>CA</td>\n",
              "      <td>92866</td>\n",
              "      <td>US</td>\n",
              "      <td>US/Pacific</td>\n",
              "      <td>KSNA</td>\n",
              "      <td>2019-08-23 18:53:00</td>\n",
              "      <td>73.0</td>\n",
              "      <td>73.0</td>\n",
              "      <td>64.0</td>\n",
              "      <td>29.74</td>\n",
              "      <td>10.0</td>\n",
              "      <td>SSW</td>\n",
              "      <td>10.0</td>\n",
              "      <td>0.00</td>\n",
              "      <td>Partly Cloudy</td>\n",
              "      <td>False</td>\n",
              "      <td>False</td>\n",
              "      <td>False</td>\n",
              "      <td>False</td>\n",
              "      <td>True</td>\n",
              "      <td>False</td>\n",
              "      <td>False</td>\n",
              "      <td>False</td>\n",
              "      <td>False</td>\n",
              "      <td>False</td>\n",
              "      <td>False</td>\n",
              "      <td>False</td>\n",
              "      <td>False</td>\n",
              "      <td>Day</td>\n",
              "      <td>Day</td>\n",
              "      <td>Day</td>\n",
              "      <td>Day</td>\n",
              "    </tr>\n",
              "    <tr>\n",
              "      <th>1516062</th>\n",
              "      <td>A-4239405</td>\n",
              "      <td>2</td>\n",
              "      <td>2019-08-23 19:00:21</td>\n",
              "      <td>2019-08-23 19:29:42</td>\n",
              "      <td>33.99246</td>\n",
              "      <td>-118.40302</td>\n",
              "      <td>33.98311</td>\n",
              "      <td>-118.39565</td>\n",
              "      <td>0.772</td>\n",
              "      <td>At CA-90/Marina Fwy/Jefferson Blvd - Accident.</td>\n",
              "      <td>NaN</td>\n",
              "      <td>San Diego Fwy S</td>\n",
              "      <td>R</td>\n",
              "      <td>Culver City</td>\n",
              "      <td>Los Angeles</td>\n",
              "      <td>CA</td>\n",
              "      <td>90230</td>\n",
              "      <td>US</td>\n",
              "      <td>US/Pacific</td>\n",
              "      <td>KSMO</td>\n",
              "      <td>2019-08-23 18:51:00</td>\n",
              "      <td>71.0</td>\n",
              "      <td>71.0</td>\n",
              "      <td>81.0</td>\n",
              "      <td>29.62</td>\n",
              "      <td>10.0</td>\n",
              "      <td>SW</td>\n",
              "      <td>8.0</td>\n",
              "      <td>0.00</td>\n",
              "      <td>Fair</td>\n",
              "      <td>False</td>\n",
              "      <td>False</td>\n",
              "      <td>False</td>\n",
              "      <td>False</td>\n",
              "      <td>False</td>\n",
              "      <td>False</td>\n",
              "      <td>False</td>\n",
              "      <td>False</td>\n",
              "      <td>False</td>\n",
              "      <td>False</td>\n",
              "      <td>False</td>\n",
              "      <td>False</td>\n",
              "      <td>False</td>\n",
              "      <td>Day</td>\n",
              "      <td>Day</td>\n",
              "      <td>Day</td>\n",
              "      <td>Day</td>\n",
              "    </tr>\n",
              "    <tr>\n",
              "      <th>1516063</th>\n",
              "      <td>A-4239406</td>\n",
              "      <td>2</td>\n",
              "      <td>2019-08-23 18:52:06</td>\n",
              "      <td>2019-08-23 19:21:31</td>\n",
              "      <td>34.13393</td>\n",
              "      <td>-117.23092</td>\n",
              "      <td>34.13736</td>\n",
              "      <td>-117.23934</td>\n",
              "      <td>0.537</td>\n",
              "      <td>At Highland Ave/Arden Ave - Accident.</td>\n",
              "      <td>NaN</td>\n",
              "      <td>CA-210 W</td>\n",
              "      <td>R</td>\n",
              "      <td>Highland</td>\n",
              "      <td>San Bernardino</td>\n",
              "      <td>CA</td>\n",
              "      <td>92346</td>\n",
              "      <td>US</td>\n",
              "      <td>US/Pacific</td>\n",
              "      <td>KSBD</td>\n",
              "      <td>2019-08-23 20:50:00</td>\n",
              "      <td>79.0</td>\n",
              "      <td>79.0</td>\n",
              "      <td>47.0</td>\n",
              "      <td>28.63</td>\n",
              "      <td>7.0</td>\n",
              "      <td>SW</td>\n",
              "      <td>7.0</td>\n",
              "      <td>0.00</td>\n",
              "      <td>Fair</td>\n",
              "      <td>False</td>\n",
              "      <td>False</td>\n",
              "      <td>False</td>\n",
              "      <td>False</td>\n",
              "      <td>False</td>\n",
              "      <td>False</td>\n",
              "      <td>False</td>\n",
              "      <td>False</td>\n",
              "      <td>False</td>\n",
              "      <td>False</td>\n",
              "      <td>False</td>\n",
              "      <td>False</td>\n",
              "      <td>False</td>\n",
              "      <td>Day</td>\n",
              "      <td>Day</td>\n",
              "      <td>Day</td>\n",
              "      <td>Day</td>\n",
              "    </tr>\n",
              "  </tbody>\n",
              "</table>\n",
              "<p>1516064 rows × 47 columns</p>\n",
              "</div>\n",
              "      <button class=\"colab-df-convert\" onclick=\"convertToInteractive('df-5ac0f537-307f-4b56-bb7f-a4ef8fbf442a')\"\n",
              "              title=\"Convert this dataframe to an interactive table.\"\n",
              "              style=\"display:none;\">\n",
              "        \n",
              "  <svg xmlns=\"http://www.w3.org/2000/svg\" height=\"24px\"viewBox=\"0 0 24 24\"\n",
              "       width=\"24px\">\n",
              "    <path d=\"M0 0h24v24H0V0z\" fill=\"none\"/>\n",
              "    <path d=\"M18.56 5.44l.94 2.06.94-2.06 2.06-.94-2.06-.94-.94-2.06-.94 2.06-2.06.94zm-11 1L8.5 8.5l.94-2.06 2.06-.94-2.06-.94L8.5 2.5l-.94 2.06-2.06.94zm10 10l.94 2.06.94-2.06 2.06-.94-2.06-.94-.94-2.06-.94 2.06-2.06.94z\"/><path d=\"M17.41 7.96l-1.37-1.37c-.4-.4-.92-.59-1.43-.59-.52 0-1.04.2-1.43.59L10.3 9.45l-7.72 7.72c-.78.78-.78 2.05 0 2.83L4 21.41c.39.39.9.59 1.41.59.51 0 1.02-.2 1.41-.59l7.78-7.78 2.81-2.81c.8-.78.8-2.07 0-2.86zM5.41 20L4 18.59l7.72-7.72 1.47 1.35L5.41 20z\"/>\n",
              "  </svg>\n",
              "      </button>\n",
              "      \n",
              "  <style>\n",
              "    .colab-df-container {\n",
              "      display:flex;\n",
              "      flex-wrap:wrap;\n",
              "      gap: 12px;\n",
              "    }\n",
              "\n",
              "    .colab-df-convert {\n",
              "      background-color: #E8F0FE;\n",
              "      border: none;\n",
              "      border-radius: 50%;\n",
              "      cursor: pointer;\n",
              "      display: none;\n",
              "      fill: #1967D2;\n",
              "      height: 32px;\n",
              "      padding: 0 0 0 0;\n",
              "      width: 32px;\n",
              "    }\n",
              "\n",
              "    .colab-df-convert:hover {\n",
              "      background-color: #E2EBFA;\n",
              "      box-shadow: 0px 1px 2px rgba(60, 64, 67, 0.3), 0px 1px 3px 1px rgba(60, 64, 67, 0.15);\n",
              "      fill: #174EA6;\n",
              "    }\n",
              "\n",
              "    [theme=dark] .colab-df-convert {\n",
              "      background-color: #3B4455;\n",
              "      fill: #D2E3FC;\n",
              "    }\n",
              "\n",
              "    [theme=dark] .colab-df-convert:hover {\n",
              "      background-color: #434B5C;\n",
              "      box-shadow: 0px 1px 3px 1px rgba(0, 0, 0, 0.15);\n",
              "      filter: drop-shadow(0px 1px 2px rgba(0, 0, 0, 0.3));\n",
              "      fill: #FFFFFF;\n",
              "    }\n",
              "  </style>\n",
              "\n",
              "      <script>\n",
              "        const buttonEl =\n",
              "          document.querySelector('#df-5ac0f537-307f-4b56-bb7f-a4ef8fbf442a button.colab-df-convert');\n",
              "        buttonEl.style.display =\n",
              "          google.colab.kernel.accessAllowed ? 'block' : 'none';\n",
              "\n",
              "        async function convertToInteractive(key) {\n",
              "          const element = document.querySelector('#df-5ac0f537-307f-4b56-bb7f-a4ef8fbf442a');\n",
              "          const dataTable =\n",
              "            await google.colab.kernel.invokeFunction('convertToInteractive',\n",
              "                                                     [key], {});\n",
              "          if (!dataTable) return;\n",
              "\n",
              "          const docLinkHtml = 'Like what you see? Visit the ' +\n",
              "            '<a target=\"_blank\" href=https://colab.research.google.com/notebooks/data_table.ipynb>data table notebook</a>'\n",
              "            + ' to learn more about interactive tables.';\n",
              "          element.innerHTML = '';\n",
              "          dataTable['output_type'] = 'display_data';\n",
              "          await google.colab.output.renderOutput(dataTable, element);\n",
              "          const docLink = document.createElement('div');\n",
              "          docLink.innerHTML = docLinkHtml;\n",
              "          element.appendChild(docLink);\n",
              "        }\n",
              "      </script>\n",
              "    </div>\n",
              "  </div>\n",
              "  "
            ],
            "text/plain": [
              "                ID  Severity  ... Nautical_Twilight Astronomical_Twilight\n",
              "0        A-2716600         3  ...             Night                 Night\n",
              "1        A-2716601         2  ...             Night                 Night\n",
              "2        A-2716602         2  ...             Night                   Day\n",
              "3        A-2716603         2  ...             Night                   Day\n",
              "4        A-2716604         2  ...               Day                   Day\n",
              "...            ...       ...  ...               ...                   ...\n",
              "1516059  A-4239402         2  ...               Day                   Day\n",
              "1516060  A-4239403         2  ...               Day                   Day\n",
              "1516061  A-4239404         2  ...               Day                   Day\n",
              "1516062  A-4239405         2  ...               Day                   Day\n",
              "1516063  A-4239406         2  ...               Day                   Day\n",
              "\n",
              "[1516064 rows x 47 columns]"
            ]
          },
          "metadata": {},
          "execution_count": 26
        }
      ],
      "source": [
        "df"
      ]
    },
    {
      "cell_type": "code",
      "execution_count": 27,
      "metadata": {
        "colab": {
          "base_uri": "https://localhost:8080/"
        },
        "id": "z5RBG9f7dTDs",
        "outputId": "90f45a67-3d25-4fe7-cb42-1303c1e5f1d3"
      },
      "outputs": [
        {
          "output_type": "execute_result",
          "data": {
            "text/plain": [
              "Index(['ID', 'Severity', 'Start_Time', 'End_Time', 'Start_Lat', 'Start_Lng',\n",
              "       'End_Lat', 'End_Lng', 'Distance(mi)', 'Description', 'Number', 'Street',\n",
              "       'Side', 'City', 'County', 'State', 'Zipcode', 'Country', 'Timezone',\n",
              "       'Airport_Code', 'Weather_Timestamp', 'Temperature(F)', 'Wind_Chill(F)',\n",
              "       'Humidity(%)', 'Pressure(in)', 'Visibility(mi)', 'Wind_Direction',\n",
              "       'Wind_Speed(mph)', 'Precipitation(in)', 'Weather_Condition', 'Amenity',\n",
              "       'Bump', 'Crossing', 'Give_Way', 'Junction', 'No_Exit', 'Railway',\n",
              "       'Roundabout', 'Station', 'Stop', 'Traffic_Calming', 'Traffic_Signal',\n",
              "       'Turning_Loop', 'Sunrise_Sunset', 'Civil_Twilight', 'Nautical_Twilight',\n",
              "       'Astronomical_Twilight'],\n",
              "      dtype='object')"
            ]
          },
          "metadata": {},
          "execution_count": 27
        }
      ],
      "source": [
        "df.columns"
      ]
    },
    {
      "cell_type": "code",
      "execution_count": 28,
      "metadata": {
        "colab": {
          "base_uri": "https://localhost:8080/"
        },
        "id": "BdCSqt_odTAj",
        "outputId": "c573fe31-380a-49f8-9e90-2ce08a65f03e"
      },
      "outputs": [
        {
          "output_type": "stream",
          "name": "stdout",
          "text": [
            "<class 'pandas.core.frame.DataFrame'>\n",
            "RangeIndex: 1516064 entries, 0 to 1516063\n",
            "Data columns (total 47 columns):\n",
            " #   Column                 Non-Null Count    Dtype  \n",
            "---  ------                 --------------    -----  \n",
            " 0   ID                     1516064 non-null  object \n",
            " 1   Severity               1516064 non-null  int64  \n",
            " 2   Start_Time             1516064 non-null  object \n",
            " 3   End_Time               1516064 non-null  object \n",
            " 4   Start_Lat              1516064 non-null  float64\n",
            " 5   Start_Lng              1516064 non-null  float64\n",
            " 6   End_Lat                1516064 non-null  float64\n",
            " 7   End_Lng                1516064 non-null  float64\n",
            " 8   Distance(mi)           1516064 non-null  float64\n",
            " 9   Description            1516064 non-null  object \n",
            " 10  Number                 469969 non-null   float64\n",
            " 11  Street                 1516064 non-null  object \n",
            " 12  Side                   1516064 non-null  object \n",
            " 13  City                   1515981 non-null  object \n",
            " 14  County                 1516064 non-null  object \n",
            " 15  State                  1516064 non-null  object \n",
            " 16  Zipcode                1515129 non-null  object \n",
            " 17  Country                1516064 non-null  object \n",
            " 18  Timezone               1513762 non-null  object \n",
            " 19  Airport_Code           1511816 non-null  object \n",
            " 20  Weather_Timestamp      1485800 non-null  object \n",
            " 21  Temperature(F)         1473031 non-null  float64\n",
            " 22  Wind_Chill(F)          1066748 non-null  float64\n",
            " 23  Humidity(%)            1470555 non-null  float64\n",
            " 24  Pressure(in)           1479790 non-null  float64\n",
            " 25  Visibility(mi)         1471853 non-null  float64\n",
            " 26  Wind_Direction         1474206 non-null  object \n",
            " 27  Wind_Speed(mph)        1387202 non-null  float64\n",
            " 28  Precipitation(in)      1005515 non-null  float64\n",
            " 29  Weather_Condition      1472057 non-null  object \n",
            " 30  Amenity                1516064 non-null  bool   \n",
            " 31  Bump                   1516064 non-null  bool   \n",
            " 32  Crossing               1516064 non-null  bool   \n",
            " 33  Give_Way               1516064 non-null  bool   \n",
            " 34  Junction               1516064 non-null  bool   \n",
            " 35  No_Exit                1516064 non-null  bool   \n",
            " 36  Railway                1516064 non-null  bool   \n",
            " 37  Roundabout             1516064 non-null  bool   \n",
            " 38  Station                1516064 non-null  bool   \n",
            " 39  Stop                   1516064 non-null  bool   \n",
            " 40  Traffic_Calming        1516064 non-null  bool   \n",
            " 41  Traffic_Signal         1516064 non-null  bool   \n",
            " 42  Turning_Loop           1516064 non-null  bool   \n",
            " 43  Sunrise_Sunset         1515981 non-null  object \n",
            " 44  Civil_Twilight         1515981 non-null  object \n",
            " 45  Nautical_Twilight      1515981 non-null  object \n",
            " 46  Astronomical_Twilight  1515981 non-null  object \n",
            "dtypes: bool(13), float64(13), int64(1), object(20)\n",
            "memory usage: 412.1+ MB\n"
          ]
        }
      ],
      "source": [
        "df.info()"
      ]
    },
    {
      "cell_type": "code",
      "execution_count": 29,
      "metadata": {
        "colab": {
          "base_uri": "https://localhost:8080/",
          "height": 364
        },
        "id": "3NfcmRcrdS8E",
        "outputId": "d69e33c0-b74a-4eed-d573-2c9d43d94531"
      },
      "outputs": [
        {
          "output_type": "execute_result",
          "data": {
            "text/html": [
              "\n",
              "  <div id=\"df-01abfc7b-3431-4917-9d71-462cf702c2dc\">\n",
              "    <div class=\"colab-df-container\">\n",
              "      <div>\n",
              "<style scoped>\n",
              "    .dataframe tbody tr th:only-of-type {\n",
              "        vertical-align: middle;\n",
              "    }\n",
              "\n",
              "    .dataframe tbody tr th {\n",
              "        vertical-align: top;\n",
              "    }\n",
              "\n",
              "    .dataframe thead th {\n",
              "        text-align: right;\n",
              "    }\n",
              "</style>\n",
              "<table border=\"1\" class=\"dataframe\">\n",
              "  <thead>\n",
              "    <tr style=\"text-align: right;\">\n",
              "      <th></th>\n",
              "      <th>Severity</th>\n",
              "      <th>Start_Lat</th>\n",
              "      <th>Start_Lng</th>\n",
              "      <th>End_Lat</th>\n",
              "      <th>End_Lng</th>\n",
              "      <th>Distance(mi)</th>\n",
              "      <th>Number</th>\n",
              "      <th>Temperature(F)</th>\n",
              "      <th>Wind_Chill(F)</th>\n",
              "      <th>Humidity(%)</th>\n",
              "      <th>Pressure(in)</th>\n",
              "      <th>Visibility(mi)</th>\n",
              "      <th>Wind_Speed(mph)</th>\n",
              "      <th>Precipitation(in)</th>\n",
              "    </tr>\n",
              "  </thead>\n",
              "  <tbody>\n",
              "    <tr>\n",
              "      <th>count</th>\n",
              "      <td>1.516064e+06</td>\n",
              "      <td>1.516064e+06</td>\n",
              "      <td>1.516064e+06</td>\n",
              "      <td>1.516064e+06</td>\n",
              "      <td>1.516064e+06</td>\n",
              "      <td>1.516064e+06</td>\n",
              "      <td>4.699690e+05</td>\n",
              "      <td>1.473031e+06</td>\n",
              "      <td>1.066748e+06</td>\n",
              "      <td>1.470555e+06</td>\n",
              "      <td>1.479790e+06</td>\n",
              "      <td>1.471853e+06</td>\n",
              "      <td>1.387202e+06</td>\n",
              "      <td>1.005515e+06</td>\n",
              "    </tr>\n",
              "    <tr>\n",
              "      <th>mean</th>\n",
              "      <td>2.238630e+00</td>\n",
              "      <td>3.690056e+01</td>\n",
              "      <td>-9.859919e+01</td>\n",
              "      <td>3.690061e+01</td>\n",
              "      <td>-9.859901e+01</td>\n",
              "      <td>5.872617e-01</td>\n",
              "      <td>8.907533e+03</td>\n",
              "      <td>5.958460e+01</td>\n",
              "      <td>5.510976e+01</td>\n",
              "      <td>6.465960e+01</td>\n",
              "      <td>2.955495e+01</td>\n",
              "      <td>9.131755e+00</td>\n",
              "      <td>7.630812e+00</td>\n",
              "      <td>8.477855e-03</td>\n",
              "    </tr>\n",
              "    <tr>\n",
              "      <th>std</th>\n",
              "      <td>6.081481e-01</td>\n",
              "      <td>5.165653e+00</td>\n",
              "      <td>1.849602e+01</td>\n",
              "      <td>5.165629e+00</td>\n",
              "      <td>1.849590e+01</td>\n",
              "      <td>1.632659e+00</td>\n",
              "      <td>2.242190e+04</td>\n",
              "      <td>1.827316e+01</td>\n",
              "      <td>2.112735e+01</td>\n",
              "      <td>2.325986e+01</td>\n",
              "      <td>1.016756e+00</td>\n",
              "      <td>2.889112e+00</td>\n",
              "      <td>5.637364e+00</td>\n",
              "      <td>1.293168e-01</td>\n",
              "    </tr>\n",
              "    <tr>\n",
              "      <th>min</th>\n",
              "      <td>1.000000e+00</td>\n",
              "      <td>2.457022e+01</td>\n",
              "      <td>-1.244976e+02</td>\n",
              "      <td>2.457011e+01</td>\n",
              "      <td>-1.244978e+02</td>\n",
              "      <td>0.000000e+00</td>\n",
              "      <td>0.000000e+00</td>\n",
              "      <td>-8.900000e+01</td>\n",
              "      <td>-8.900000e+01</td>\n",
              "      <td>1.000000e+00</td>\n",
              "      <td>0.000000e+00</td>\n",
              "      <td>0.000000e+00</td>\n",
              "      <td>0.000000e+00</td>\n",
              "      <td>0.000000e+00</td>\n",
              "    </tr>\n",
              "    <tr>\n",
              "      <th>25%</th>\n",
              "      <td>2.000000e+00</td>\n",
              "      <td>3.385422e+01</td>\n",
              "      <td>-1.182076e+02</td>\n",
              "      <td>3.385420e+01</td>\n",
              "      <td>-1.182077e+02</td>\n",
              "      <td>0.000000e+00</td>\n",
              "      <td>1.212000e+03</td>\n",
              "      <td>4.700000e+01</td>\n",
              "      <td>4.080000e+01</td>\n",
              "      <td>4.800000e+01</td>\n",
              "      <td>2.944000e+01</td>\n",
              "      <td>1.000000e+01</td>\n",
              "      <td>4.600000e+00</td>\n",
              "      <td>0.000000e+00</td>\n",
              "    </tr>\n",
              "    <tr>\n",
              "      <th>50%</th>\n",
              "      <td>2.000000e+00</td>\n",
              "      <td>3.735113e+01</td>\n",
              "      <td>-9.438100e+01</td>\n",
              "      <td>3.735134e+01</td>\n",
              "      <td>-9.437987e+01</td>\n",
              "      <td>1.780000e-01</td>\n",
              "      <td>4.000000e+03</td>\n",
              "      <td>6.100000e+01</td>\n",
              "      <td>5.700000e+01</td>\n",
              "      <td>6.800000e+01</td>\n",
              "      <td>2.988000e+01</td>\n",
              "      <td>1.000000e+01</td>\n",
              "      <td>7.000000e+00</td>\n",
              "      <td>0.000000e+00</td>\n",
              "    </tr>\n",
              "    <tr>\n",
              "      <th>75%</th>\n",
              "      <td>2.000000e+00</td>\n",
              "      <td>4.072593e+01</td>\n",
              "      <td>-8.087469e+01</td>\n",
              "      <td>4.072593e+01</td>\n",
              "      <td>-8.087449e+01</td>\n",
              "      <td>5.940000e-01</td>\n",
              "      <td>1.010000e+04</td>\n",
              "      <td>7.300000e+01</td>\n",
              "      <td>7.100000e+01</td>\n",
              "      <td>8.400000e+01</td>\n",
              "      <td>3.004000e+01</td>\n",
              "      <td>1.000000e+01</td>\n",
              "      <td>1.040000e+01</td>\n",
              "      <td>0.000000e+00</td>\n",
              "    </tr>\n",
              "    <tr>\n",
              "      <th>max</th>\n",
              "      <td>4.000000e+00</td>\n",
              "      <td>4.900058e+01</td>\n",
              "      <td>-6.711317e+01</td>\n",
              "      <td>4.907500e+01</td>\n",
              "      <td>-6.710924e+01</td>\n",
              "      <td>1.551860e+02</td>\n",
              "      <td>9.999997e+06</td>\n",
              "      <td>1.706000e+02</td>\n",
              "      <td>1.130000e+02</td>\n",
              "      <td>1.000000e+02</td>\n",
              "      <td>5.804000e+01</td>\n",
              "      <td>1.400000e+02</td>\n",
              "      <td>9.840000e+02</td>\n",
              "      <td>2.400000e+01</td>\n",
              "    </tr>\n",
              "  </tbody>\n",
              "</table>\n",
              "</div>\n",
              "      <button class=\"colab-df-convert\" onclick=\"convertToInteractive('df-01abfc7b-3431-4917-9d71-462cf702c2dc')\"\n",
              "              title=\"Convert this dataframe to an interactive table.\"\n",
              "              style=\"display:none;\">\n",
              "        \n",
              "  <svg xmlns=\"http://www.w3.org/2000/svg\" height=\"24px\"viewBox=\"0 0 24 24\"\n",
              "       width=\"24px\">\n",
              "    <path d=\"M0 0h24v24H0V0z\" fill=\"none\"/>\n",
              "    <path d=\"M18.56 5.44l.94 2.06.94-2.06 2.06-.94-2.06-.94-.94-2.06-.94 2.06-2.06.94zm-11 1L8.5 8.5l.94-2.06 2.06-.94-2.06-.94L8.5 2.5l-.94 2.06-2.06.94zm10 10l.94 2.06.94-2.06 2.06-.94-2.06-.94-.94-2.06-.94 2.06-2.06.94z\"/><path d=\"M17.41 7.96l-1.37-1.37c-.4-.4-.92-.59-1.43-.59-.52 0-1.04.2-1.43.59L10.3 9.45l-7.72 7.72c-.78.78-.78 2.05 0 2.83L4 21.41c.39.39.9.59 1.41.59.51 0 1.02-.2 1.41-.59l7.78-7.78 2.81-2.81c.8-.78.8-2.07 0-2.86zM5.41 20L4 18.59l7.72-7.72 1.47 1.35L5.41 20z\"/>\n",
              "  </svg>\n",
              "      </button>\n",
              "      \n",
              "  <style>\n",
              "    .colab-df-container {\n",
              "      display:flex;\n",
              "      flex-wrap:wrap;\n",
              "      gap: 12px;\n",
              "    }\n",
              "\n",
              "    .colab-df-convert {\n",
              "      background-color: #E8F0FE;\n",
              "      border: none;\n",
              "      border-radius: 50%;\n",
              "      cursor: pointer;\n",
              "      display: none;\n",
              "      fill: #1967D2;\n",
              "      height: 32px;\n",
              "      padding: 0 0 0 0;\n",
              "      width: 32px;\n",
              "    }\n",
              "\n",
              "    .colab-df-convert:hover {\n",
              "      background-color: #E2EBFA;\n",
              "      box-shadow: 0px 1px 2px rgba(60, 64, 67, 0.3), 0px 1px 3px 1px rgba(60, 64, 67, 0.15);\n",
              "      fill: #174EA6;\n",
              "    }\n",
              "\n",
              "    [theme=dark] .colab-df-convert {\n",
              "      background-color: #3B4455;\n",
              "      fill: #D2E3FC;\n",
              "    }\n",
              "\n",
              "    [theme=dark] .colab-df-convert:hover {\n",
              "      background-color: #434B5C;\n",
              "      box-shadow: 0px 1px 3px 1px rgba(0, 0, 0, 0.15);\n",
              "      filter: drop-shadow(0px 1px 2px rgba(0, 0, 0, 0.3));\n",
              "      fill: #FFFFFF;\n",
              "    }\n",
              "  </style>\n",
              "\n",
              "      <script>\n",
              "        const buttonEl =\n",
              "          document.querySelector('#df-01abfc7b-3431-4917-9d71-462cf702c2dc button.colab-df-convert');\n",
              "        buttonEl.style.display =\n",
              "          google.colab.kernel.accessAllowed ? 'block' : 'none';\n",
              "\n",
              "        async function convertToInteractive(key) {\n",
              "          const element = document.querySelector('#df-01abfc7b-3431-4917-9d71-462cf702c2dc');\n",
              "          const dataTable =\n",
              "            await google.colab.kernel.invokeFunction('convertToInteractive',\n",
              "                                                     [key], {});\n",
              "          if (!dataTable) return;\n",
              "\n",
              "          const docLinkHtml = 'Like what you see? Visit the ' +\n",
              "            '<a target=\"_blank\" href=https://colab.research.google.com/notebooks/data_table.ipynb>data table notebook</a>'\n",
              "            + ' to learn more about interactive tables.';\n",
              "          element.innerHTML = '';\n",
              "          dataTable['output_type'] = 'display_data';\n",
              "          await google.colab.output.renderOutput(dataTable, element);\n",
              "          const docLink = document.createElement('div');\n",
              "          docLink.innerHTML = docLinkHtml;\n",
              "          element.appendChild(docLink);\n",
              "        }\n",
              "      </script>\n",
              "    </div>\n",
              "  </div>\n",
              "  "
            ],
            "text/plain": [
              "           Severity     Start_Lat  ...  Wind_Speed(mph)  Precipitation(in)\n",
              "count  1.516064e+06  1.516064e+06  ...     1.387202e+06       1.005515e+06\n",
              "mean   2.238630e+00  3.690056e+01  ...     7.630812e+00       8.477855e-03\n",
              "std    6.081481e-01  5.165653e+00  ...     5.637364e+00       1.293168e-01\n",
              "min    1.000000e+00  2.457022e+01  ...     0.000000e+00       0.000000e+00\n",
              "25%    2.000000e+00  3.385422e+01  ...     4.600000e+00       0.000000e+00\n",
              "50%    2.000000e+00  3.735113e+01  ...     7.000000e+00       0.000000e+00\n",
              "75%    2.000000e+00  4.072593e+01  ...     1.040000e+01       0.000000e+00\n",
              "max    4.000000e+00  4.900058e+01  ...     9.840000e+02       2.400000e+01\n",
              "\n",
              "[8 rows x 14 columns]"
            ]
          },
          "metadata": {},
          "execution_count": 29
        }
      ],
      "source": [
        "df.describe()"
      ]
    },
    {
      "cell_type": "code",
      "execution_count": 30,
      "metadata": {
        "colab": {
          "base_uri": "https://localhost:8080/"
        },
        "id": "RGSMO-pLg2VM",
        "outputId": "770a147d-4b23-47c7-f269-24cfabc54fcd"
      },
      "outputs": [
        {
          "output_type": "execute_result",
          "data": {
            "text/plain": [
              "14"
            ]
          },
          "metadata": {},
          "execution_count": 30
        }
      ],
      "source": [
        "numerics = ['int16', 'int32', 'int64', 'float16', 'float32', 'float64', ]\n",
        "\n",
        "\n",
        "numeric_df = df.select_dtypes(include=numerics)\n",
        "len(numeric_df.columns)"
      ]
    },
    {
      "cell_type": "markdown",
      "metadata": {
        "id": "946qAPi0mmUd"
      },
      "source": [
        "## Percent of missing valuses per column "
      ]
    },
    {
      "cell_type": "code",
      "execution_count": 31,
      "metadata": {
        "colab": {
          "base_uri": "https://localhost:8080/"
        },
        "id": "TnbQt8IFg2Qp",
        "outputId": "936469a7-c645-48ad-cc9f-a06a9ab63c2e"
      },
      "outputs": [
        {
          "output_type": "execute_result",
          "data": {
            "text/plain": [
              "Number                   0.690007\n",
              "Precipitation(in)        0.336760\n",
              "Wind_Chill(F)            0.296370\n",
              "Wind_Speed(mph)          0.084998\n",
              "Humidity(%)              0.030018\n",
              "Visibility(mi)           0.029162\n",
              "Weather_Condition        0.029027\n",
              "Temperature(F)           0.028385\n",
              "Wind_Direction           0.027610\n",
              "Pressure(in)             0.023926\n",
              "Weather_Timestamp        0.019962\n",
              "Airport_Code             0.002802\n",
              "Timezone                 0.001518\n",
              "Zipcode                  0.000617\n",
              "City                     0.000055\n",
              "Nautical_Twilight        0.000055\n",
              "Astronomical_Twilight    0.000055\n",
              "Civil_Twilight           0.000055\n",
              "Sunrise_Sunset           0.000055\n",
              "Amenity                  0.000000\n",
              "Bump                     0.000000\n",
              "Severity                 0.000000\n",
              "Start_Time               0.000000\n",
              "End_Time                 0.000000\n",
              "Start_Lat                0.000000\n",
              "Start_Lng                0.000000\n",
              "End_Lat                  0.000000\n",
              "End_Lng                  0.000000\n",
              "Distance(mi)             0.000000\n",
              "Description              0.000000\n",
              "Street                   0.000000\n",
              "Side                     0.000000\n",
              "County                   0.000000\n",
              "State                    0.000000\n",
              "Turning_Loop             0.000000\n",
              "Country                  0.000000\n",
              "Traffic_Signal           0.000000\n",
              "Traffic_Calming          0.000000\n",
              "Stop                     0.000000\n",
              "Station                  0.000000\n",
              "Roundabout               0.000000\n",
              "Railway                  0.000000\n",
              "No_Exit                  0.000000\n",
              "Junction                 0.000000\n",
              "Give_Way                 0.000000\n",
              "Crossing                 0.000000\n",
              "ID                       0.000000\n",
              "dtype: float64"
            ]
          },
          "metadata": {},
          "execution_count": 31
        }
      ],
      "source": [
        "missing_percentages = df.isna().sum().sort_values(ascending = False)/len(df)\n",
        "missing_percentages"
      ]
    },
    {
      "cell_type": "code",
      "execution_count": 32,
      "metadata": {
        "colab": {
          "base_uri": "https://localhost:8080/",
          "height": 282
        },
        "id": "PGk0m4qvg2Of",
        "outputId": "ea3dd1c0-851c-4236-8a2f-b7b80cb79578"
      },
      "outputs": [
        {
          "output_type": "execute_result",
          "data": {
            "text/plain": [
              "<matplotlib.axes._subplots.AxesSubplot at 0x7ff020480690>"
            ]
          },
          "metadata": {},
          "execution_count": 32
        },
        {
          "output_type": "display_data",
          "data": {
            "image/png": "[encoded data removed]",
            "text/plain": [
              "<Figure size 432x288 with 1 Axes>"
            ]
          },
          "metadata": {
            "needs_background": "light"
          }
        }
      ],
      "source": [
        "missing_percentages[missing_percentages !=0].plot(kind= 'barh')"
      ]
    },
    {
      "cell_type": "markdown",
      "metadata": {
        "id": "pU51LZujAZBH"
      },
      "source": [
        "Remove colums you don’t want to use."
      ]
    },
    {
      "cell_type": "code",
      "execution_count": 32,
      "metadata": {
        "id": "vTWFiN-ddScT"
      },
      "outputs": [],
      "source": [
        ""
      ]
    },
    {
      "cell_type": "markdown",
      "metadata": {
        "id": "h1GOWcHKPoC1"
      },
      "source": [
        "##Perform exploratory analysis & visualization using Matplotlib & Seaborn"
      ]
    },
    {
      "cell_type": "markdown",
      "metadata": {
        "id": "TQNGz0lkJ4Yi"
      },
      "source": [
        "Colums to be analyzed.\n",
        "\n",
        "\n",
        "1.   City \n",
        "2.   Start Time \n",
        "3.   Start lat \n",
        "4.   Start lng \n",
        "5.   Temperature \n",
        "6.   Weather Conditions \n",
        "\n",
        "\n",
        "\n",
        "\n",
        "\n",
        "\n",
        "\n",
        "\n"
      ]
    },
    {
      "cell_type": "code",
      "execution_count": 33,
      "metadata": {
        "colab": {
          "base_uri": "https://localhost:8080/"
        },
        "id": "dVzq6CaXPmM0",
        "outputId": "e1d9a7ba-9b50-45d2-ea43-ce27ff94dec2"
      },
      "outputs": [
        {
          "output_type": "execute_result",
          "data": {
            "text/plain": [
              "Index(['ID', 'Severity', 'Start_Time', 'End_Time', 'Start_Lat', 'Start_Lng',\n",
              "       'End_Lat', 'End_Lng', 'Distance(mi)', 'Description', 'Number', 'Street',\n",
              "       'Side', 'City', 'County', 'State', 'Zipcode', 'Country', 'Timezone',\n",
              "       'Airport_Code', 'Weather_Timestamp', 'Temperature(F)', 'Wind_Chill(F)',\n",
              "       'Humidity(%)', 'Pressure(in)', 'Visibility(mi)', 'Wind_Direction',\n",
              "       'Wind_Speed(mph)', 'Precipitation(in)', 'Weather_Condition', 'Amenity',\n",
              "       'Bump', 'Crossing', 'Give_Way', 'Junction', 'No_Exit', 'Railway',\n",
              "       'Roundabout', 'Station', 'Stop', 'Traffic_Calming', 'Traffic_Signal',\n",
              "       'Turning_Loop', 'Sunrise_Sunset', 'Civil_Twilight', 'Nautical_Twilight',\n",
              "       'Astronomical_Twilight'],\n",
              "      dtype='object')"
            ]
          },
          "metadata": {},
          "execution_count": 33
        }
      ],
      "source": [
        "df.columns"
      ]
    },
    {
      "cell_type": "code",
      "execution_count": 34,
      "metadata": {
        "colab": {
          "base_uri": "https://localhost:8080/"
        },
        "id": "h53POZZ6Pl_L",
        "outputId": "cb8b49df-5bc5-4c36-a1a0-5565d866e9ac"
      },
      "outputs": [
        {
          "output_type": "execute_result",
          "data": {
            "text/plain": [
              "0               Dublin\n",
              "1               Dayton\n",
              "2           Cincinnati\n",
              "3           Cincinnati\n",
              "4                Akron\n",
              "              ...     \n",
              "1516059      Riverside\n",
              "1516060      San Diego\n",
              "1516061         Orange\n",
              "1516062    Culver City\n",
              "1516063       Highland\n",
              "Name: City, Length: 1516064, dtype: object"
            ]
          },
          "metadata": {},
          "execution_count": 34
        }
      ],
      "source": [
        "df.City"
      ]
    },
    {
      "cell_type": "code",
      "execution_count": 35,
      "metadata": {
        "colab": {
          "base_uri": "https://localhost:8080/"
        },
        "id": "UWRrnAWuN-jh",
        "outputId": "48122442-a6fa-4c62-cef4-be4e090eb98a"
      },
      "outputs": [
        {
          "output_type": "execute_result",
          "data": {
            "text/plain": [
              "10658"
            ]
          },
          "metadata": {},
          "execution_count": 35
        }
      ],
      "source": [
        "cities = df.City.unique()\n",
        "len(cities)"
      ]
    },
    {
      "cell_type": "code",
      "execution_count": 36,
      "metadata": {
        "colab": {
          "base_uri": "https://localhost:8080/"
        },
        "id": "KQ_cr6fEPMjp",
        "outputId": "d3f970c3-e19e-4e18-ca1f-694ebff4dd4d"
      },
      "outputs": [
        {
          "output_type": "execute_result",
          "data": {
            "text/plain": [
              "Los Angeles            39984\n",
              "Miami                  36233\n",
              "Charlotte              22203\n",
              "Houston                20843\n",
              "Dallas                 19497\n",
              "                       ...  \n",
              "Hosston                    1\n",
              "Ryder                      1\n",
              "South Bloomingville        1\n",
              "Pisgah                     1\n",
              "Baltic                     1\n",
              "Name: City, Length: 10657, dtype: int64"
            ]
          },
          "metadata": {},
          "execution_count": 36
        }
      ],
      "source": [
        "cities_by_accidents = df.City.value_counts()\n",
        "cities_by_accidents"
      ]
    },
    {
      "cell_type": "code",
      "execution_count": 37,
      "metadata": {
        "colab": {
          "base_uri": "https://localhost:8080/"
        },
        "id": "DhBdRPHdQc4P",
        "outputId": "acb36b4f-71c3-435a-d99b-3169b443c2e3"
      },
      "outputs": [
        {
          "output_type": "execute_result",
          "data": {
            "text/plain": [
              "Los Angeles     39984\n",
              "Miami           36233\n",
              "Charlotte       22203\n",
              "Houston         20843\n",
              "Dallas          19497\n",
              "Sacramento      18431\n",
              "Orlando         16169\n",
              "Portland        14805\n",
              "San Diego       14090\n",
              "Minneapolis     12653\n",
              "Atlanta         11854\n",
              "Chicago         11507\n",
              "Saint Paul      10084\n",
              "Phoenix          9934\n",
              "Raleigh          9516\n",
              "San Jose         9362\n",
              "Richmond         8472\n",
              "Nashville        8381\n",
              "Riverside        8201\n",
              "Jacksonville     7815\n",
              "Name: City, dtype: int64"
            ]
          },
          "metadata": {},
          "execution_count": 37
        }
      ],
      "source": [
        "cities_by_accidents [:20]"
      ]
    },
    {
      "cell_type": "code",
      "execution_count": 38,
      "metadata": {
        "colab": {
          "base_uri": "https://localhost:8080/"
        },
        "id": "1oWlgmHhR02l",
        "outputId": "c71ae116-fccb-4892-90af-ede28fd3d581"
      },
      "outputs": [
        {
          "output_type": "execute_result",
          "data": {
            "text/plain": [
              "False"
            ]
          },
          "metadata": {},
          "execution_count": 38
        }
      ],
      "source": [
        "'New York' in df.City"
      ]
    },
    {
      "cell_type": "code",
      "execution_count": 39,
      "metadata": {
        "colab": {
          "base_uri": "https://localhost:8080/"
        },
        "id": "Lsx89W2_R_ui",
        "outputId": "7a23a25b-ba7b-4e10-fdd5-d72c4dbf4afc"
      },
      "outputs": [
        {
          "output_type": "execute_result",
          "data": {
            "text/plain": [
              "0          OH\n",
              "1          OH\n",
              "2          OH\n",
              "3          OH\n",
              "4          OH\n",
              "           ..\n",
              "1516059    CA\n",
              "1516060    CA\n",
              "1516061    CA\n",
              "1516062    CA\n",
              "1516063    CA\n",
              "Name: State, Length: 1516064, dtype: object"
            ]
          },
          "metadata": {},
          "execution_count": 39
        }
      ],
      "source": [
        "df.State"
      ]
    },
    {
      "cell_type": "code",
      "execution_count": 40,
      "metadata": {
        "colab": {
          "base_uri": "https://localhost:8080/"
        },
        "id": "noVE_wE7SKiF",
        "outputId": "88530c85-ea34-4f97-c7f2-8f9bbb6f41ee"
      },
      "outputs": [
        {
          "output_type": "execute_result",
          "data": {
            "text/plain": [
              "False"
            ]
          },
          "metadata": {},
          "execution_count": 40
        }
      ],
      "source": [
        "'NY' in df.State"
      ]
    },
    {
      "cell_type": "code",
      "execution_count": 41,
      "metadata": {
        "colab": {
          "base_uri": "https://localhost:8080/",
          "height": 283
        },
        "id": "9bAVNCsVTSR3",
        "outputId": "7806074f-9532-4ee0-9b7b-407820b949ce"
      },
      "outputs": [
        {
          "output_type": "execute_result",
          "data": {
            "text/plain": [
              "<matplotlib.axes._subplots.AxesSubplot at 0x7ff0203beed0>"
            ]
          },
          "metadata": {},
          "execution_count": 41
        },
        {
          "output_type": "display_data",
          "data": {
            "image/png": "[encoded data removed]",
            "text/plain": [
              "<Figure size 432x288 with 1 Axes>"
            ]
          },
          "metadata": {
            "needs_background": "light"
          }
        }
      ],
      "source": [
        "cities_by_accidents[:30].plot(kind='barh')"
      ]
    },
    {
      "cell_type": "code",
      "execution_count": 41,
      "metadata": {
        "id": "L-Kyh3K7SRkG"
      },
      "outputs": [],
      "source": [
        ""
      ]
    },
    {
      "cell_type": "code",
      "execution_count": 42,
      "metadata": {
        "id": "I3aS851sUzLa"
      },
      "outputs": [],
      "source": [
        "import seaborn as sns \n",
        "sns.set_style(\"darkgrid\")"
      ]
    },
    {
      "cell_type": "code",
      "execution_count": 43,
      "metadata": {
        "colab": {
          "base_uri": "https://localhost:8080/",
          "height": 300
        },
        "id": "INwgavCgVaki",
        "outputId": "a999ec83-b5c8-4578-c40d-485dcdd5cfcb"
      },
      "outputs": [
        {
          "output_type": "execute_result",
          "data": {
            "text/plain": [
              "<matplotlib.axes._subplots.AxesSubplot at 0x7ff011491110>"
            ]
          },
          "metadata": {},
          "execution_count": 43
        },
        {
          "output_type": "display_data",
          "data": {
            "image/png": "[encoded data removed]",
            "text/plain": [
              "<Figure size 432x288 with 1 Axes>"
            ]
          },
          "metadata": {}
        }
      ],
      "source": [
        "sns.histplot(cities_by_accidents, log_scale=True)"
      ]
    },
    {
      "cell_type": "code",
      "execution_count": 44,
      "metadata": {
        "colab": {
          "base_uri": "https://localhost:8080/"
        },
        "id": "2A-uQngacYQ8",
        "outputId": "2d864111-ad81-497e-e4ee-dea69da6ee56"
      },
      "outputs": [
        {
          "output_type": "execute_result",
          "data": {
            "text/plain": [
              "Nodaway                1\n",
              "Trimble                1\n",
              "Sherwood Forest        1\n",
              "Geyser                 1\n",
              "Dellrose               1\n",
              "                      ..\n",
              "Hosston                1\n",
              "Ryder                  1\n",
              "South Bloomingville    1\n",
              "Pisgah                 1\n",
              "Baltic                 1\n",
              "Name: City, Length: 1167, dtype: int64"
            ]
          },
          "metadata": {},
          "execution_count": 44
        }
      ],
      "source": [
        "cities_by_accidents [cities_by_accidents == 1]"
      ]
    },
    {
      "cell_type": "code",
      "execution_count": 56,
      "metadata": {
        "colab": {
          "base_uri": "https://localhost:8080/",
          "height": 296
        },
        "id": "gKlRcJGpaW2g",
        "outputId": "285a2232-c21d-4fe4-b7b7-7280a822b7d2"
      },
      "outputs": [
        {
          "output_type": "execute_result",
          "data": {
            "text/plain": [
              "<matplotlib.axes._subplots.AxesSubplot at 0x7ff00f0ffbd0>"
            ]
          },
          "metadata": {},
          "execution_count": 56
        },
        {
          "output_type": "display_data",
          "data": {
            "image/png": "[encoded data removed]",
            "text/plain": [
              "<Figure size 432x288 with 1 Axes>"
            ]
          },
          "metadata": {}
        }
      ],
      "source": [
        "sns.histplot(low_accident_cities)"
      ]
    },
    {
      "cell_type": "code",
      "execution_count": 47,
      "metadata": {
        "id": "7aSbrh7bVadV"
      },
      "outputs": [],
      "source": [
        "high_accident_cities = cities_by_accidents[cities_by_accidents >= 1000]\n",
        "low_accident_cities = cities_by_accidents[cities_by_accidents < 1000]"
      ]
    },
    {
      "cell_type": "code",
      "execution_count": 48,
      "metadata": {
        "colab": {
          "base_uri": "https://localhost:8080/"
        },
        "id": "TTeSoeraVaW7",
        "outputId": "9e50702a-4161-4f8c-ab8e-68688b73246a"
      },
      "outputs": [
        {
          "output_type": "execute_result",
          "data": {
            "text/plain": [
              "0.023550384687558643"
            ]
          },
          "metadata": {},
          "execution_count": 48
        }
      ],
      "source": [
        "len(high_accident_cities) / len(cities)"
      ]
    },
    {
      "cell_type": "markdown",
      "metadata": {
        "id": "Ppd1CAZ9YdL_"
      },
      "source": [
        "- Less than 2% of the cities have high accident out of 49 states ."
      ]
    },
    {
      "cell_type": "code",
      "execution_count": 49,
      "metadata": {
        "colab": {
          "base_uri": "https://localhost:8080/",
          "height": 351
        },
        "id": "WbG249EDVaQp",
        "outputId": "cb9fef24-0265-4613-e996-1f0b8641a1ea"
      },
      "outputs": [
        {
          "output_type": "stream",
          "name": "stderr",
          "text": [
            "/usr/local/lib/python3.7/dist-packages/seaborn/distributions.py:2619: FutureWarning: `distplot` is a deprecated function and will be removed in a future version. Please adapt your code to use either `displot` (a figure-level function with similar flexibility) or `histplot` (an axes-level function for histograms).\n",
            "  warnings.warn(msg, FutureWarning)\n"
          ]
        },
        {
          "output_type": "execute_result",
          "data": {
            "text/plain": [
              "<matplotlib.axes._subplots.AxesSubplot at 0x7ff011154c90>"
            ]
          },
          "metadata": {},
          "execution_count": 49
        },
        {
          "output_type": "display_data",
          "data": {
            "image/png": "[encoded data removed]",
            "text/plain": [
              "<Figure size 432x288 with 1 Axes>"
            ]
          },
          "metadata": {}
        }
      ],
      "source": [
        "sns.distplot(high_accident_cities)"
      ]
    },
    {
      "cell_type": "code",
      "source": [
        "sns.displot(low_accident_cities)"
      ],
      "metadata": {
        "colab": {
          "base_uri": "https://localhost:8080/",
          "height": 386
        },
        "id": "eNs_dkTTminM",
        "outputId": "489c933e-e35f-4de6-c89a-d978c8688790"
      },
      "execution_count": 50,
      "outputs": [
        {
          "output_type": "execute_result",
          "data": {
            "text/plain": [
              "<seaborn.axisgrid.FacetGrid at 0x7ff0111e47d0>"
            ]
          },
          "metadata": {},
          "execution_count": 50
        },
        {
          "output_type": "display_data",
          "data": {
            "image/png": "[encoded data removed]",
            "text/plain": [
              "<Figure size 360x360 with 1 Axes>"
            ]
          },
          "metadata": {}
        }
      ]
    },
    {
      "cell_type": "markdown",
      "source": [
        "### Start time"
      ],
      "metadata": {
        "id": "ZEBriDVXpPmJ"
      }
    },
    {
      "cell_type": "code",
      "source": [
        "df.Start_Time"
      ],
      "metadata": {
        "colab": {
          "base_uri": "https://localhost:8080/"
        },
        "id": "xT4BU9uspOPM",
        "outputId": "4c8a7c55-f9ea-4f51-dadb-d6cf8613293b"
      },
      "execution_count": 51,
      "outputs": [
        {
          "output_type": "execute_result",
          "data": {
            "text/plain": [
              "0          2016-02-08 00:37:08\n",
              "1          2016-02-08 05:56:20\n",
              "2          2016-02-08 06:15:39\n",
              "3          2016-02-08 06:15:39\n",
              "4          2016-02-08 06:51:45\n",
              "                  ...         \n",
              "1516059    2019-08-23 18:03:25\n",
              "1516060    2019-08-23 19:11:30\n",
              "1516061    2019-08-23 19:00:21\n",
              "1516062    2019-08-23 19:00:21\n",
              "1516063    2019-08-23 18:52:06\n",
              "Name: Start_Time, Length: 1516064, dtype: object"
            ]
          },
          "metadata": {},
          "execution_count": 51
        }
      ]
    },
    {
      "cell_type": "code",
      "source": [
        "df.Start_Time[0]"
      ],
      "metadata": {
        "colab": {
          "base_uri": "https://localhost:8080/",
          "height": 35
        },
        "id": "bBJbZPmv2Jrt",
        "outputId": "294dccb7-3960-4f12-87bf-72a675ac628a"
      },
      "execution_count": 52,
      "outputs": [
        {
          "output_type": "execute_result",
          "data": {
            "application/vnd.google.colaboratory.intrinsic+json": {
              "type": "string"
            },
            "text/plain": [
              "'2016-02-08 00:37:08'"
            ]
          },
          "metadata": {},
          "execution_count": 52
        }
      ]
    },
    {
      "cell_type": "code",
      "source": [
        "df.Start_Time = pd.to_datetime(df.Start_Time)"
      ],
      "metadata": {
        "id": "dc2byY6ZpOLz"
      },
      "execution_count": 53,
      "outputs": []
    },
    {
      "cell_type": "code",
      "source": [
        "df.Start_Time"
      ],
      "metadata": {
        "colab": {
          "base_uri": "https://localhost:8080/"
        },
        "id": "5G1bVd__pOIY",
        "outputId": "657de574-6150-4ced-992e-9be646891d05"
      },
      "execution_count": 54,
      "outputs": [
        {
          "output_type": "execute_result",
          "data": {
            "text/plain": [
              "0         2016-02-08 00:37:08\n",
              "1         2016-02-08 05:56:20\n",
              "2         2016-02-08 06:15:39\n",
              "3         2016-02-08 06:15:39\n",
              "4         2016-02-08 06:51:45\n",
              "                  ...        \n",
              "1516059   2019-08-23 18:03:25\n",
              "1516060   2019-08-23 19:11:30\n",
              "1516061   2019-08-23 19:00:21\n",
              "1516062   2019-08-23 19:00:21\n",
              "1516063   2019-08-23 18:52:06\n",
              "Name: Start_Time, Length: 1516064, dtype: datetime64[ns]"
            ]
          },
          "metadata": {},
          "execution_count": 54
        }
      ]
    },
    {
      "cell_type": "code",
      "source": [
        "df.Start_Time[0].hour"
      ],
      "metadata": {
        "colab": {
          "base_uri": "https://localhost:8080/"
        },
        "id": "XOCeHg5BpOFk",
        "outputId": "58d6df96-149e-45ca-e486-fc455c2623c8"
      },
      "execution_count": 55,
      "outputs": [
        {
          "output_type": "execute_result",
          "data": {
            "text/plain": [
              "0"
            ]
          },
          "metadata": {},
          "execution_count": 55
        }
      ]
    },
    {
      "cell_type": "code",
      "source": [
        "df.Start_Time.dt.hour"
      ],
      "metadata": {
        "id": "lDmbmTVYpOC9",
        "colab": {
          "base_uri": "https://localhost:8080/"
        },
        "outputId": "d21e9aa4-ee2b-4a90-94f4-cb44f5468a1d"
      },
      "execution_count": 58,
      "outputs": [
        {
          "output_type": "execute_result",
          "data": {
            "text/plain": [
              "0           0\n",
              "1           5\n",
              "2           6\n",
              "3           6\n",
              "4           6\n",
              "           ..\n",
              "1516059    18\n",
              "1516060    19\n",
              "1516061    19\n",
              "1516062    19\n",
              "1516063    18\n",
              "Name: Start_Time, Length: 1516064, dtype: int64"
            ]
          },
          "metadata": {},
          "execution_count": 58
        }
      ]
    },
    {
      "cell_type": "code",
      "source": [
        "sns.histplot(df.Start_Time.dt.hour, bins=24)"
      ],
      "metadata": {
        "id": "TGla2cZ7pMcD",
        "colab": {
          "base_uri": "https://localhost:8080/",
          "height": 297
        },
        "outputId": "b1cc9c79-3e4a-4436-aa31-2b8ef1250496"
      },
      "execution_count": 60,
      "outputs": [
        {
          "output_type": "execute_result",
          "data": {
            "text/plain": [
              "<matplotlib.axes._subplots.AxesSubplot at 0x7ff001566950>"
            ]
          },
          "metadata": {},
          "execution_count": 60
        },
        {
          "output_type": "display_data",
          "data": {
            "image/png": "[encoded data removed]",
            "text/plain": [
              "<Figure size 432x288 with 1 Axes>"
            ]
          },
          "metadata": {}
        }
      ]
    },
    {
      "cell_type": "code",
      "source": [
        "sns.distplot(df.Start_Time.dt.hour, bins=24)"
      ],
      "metadata": {
        "colab": {
          "base_uri": "https://localhost:8080/",
          "height": 352
        },
        "id": "4-7Id_CP_thY",
        "outputId": "35ca8d3c-823b-49df-f75f-2ab7201b00db"
      },
      "execution_count": 61,
      "outputs": [
        {
          "output_type": "stream",
          "name": "stderr",
          "text": [
            "/usr/local/lib/python3.7/dist-packages/seaborn/distributions.py:2619: FutureWarning: `distplot` is a deprecated function and will be removed in a future version. Please adapt your code to use either `displot` (a figure-level function with similar flexibility) or `histplot` (an axes-level function for histograms).\n",
            "  warnings.warn(msg, FutureWarning)\n"
          ]
        },
        {
          "output_type": "execute_result",
          "data": {
            "text/plain": [
              "<matplotlib.axes._subplots.AxesSubplot at 0x7ff0015595d0>"
            ]
          },
          "metadata": {},
          "execution_count": 61
        },
        {
          "output_type": "display_data",
          "data": {
            "image/png": "[encoded data removed]",
            "text/plain": [
              "<Figure size 432x288 with 1 Axes>"
            ]
          },
          "metadata": {}
        }
      ]
    },
    {
      "cell_type": "code",
      "source": [
        "sns.distplot(df.Start_Time.dt.hour, bins=24, kde=False, norm_hist=True)"
      ],
      "metadata": {
        "colab": {
          "base_uri": "https://localhost:8080/",
          "height": 352
        },
        "id": "PERobHuM_tby",
        "outputId": "01cf5222-d158-4fa0-853f-b9918a9584c7"
      },
      "execution_count": 62,
      "outputs": [
        {
          "output_type": "stream",
          "name": "stderr",
          "text": [
            "/usr/local/lib/python3.7/dist-packages/seaborn/distributions.py:2619: FutureWarning: `distplot` is a deprecated function and will be removed in a future version. Please adapt your code to use either `displot` (a figure-level function with similar flexibility) or `histplot` (an axes-level function for histograms).\n",
            "  warnings.warn(msg, FutureWarning)\n"
          ]
        },
        {
          "output_type": "execute_result",
          "data": {
            "text/plain": [
              "<matplotlib.axes._subplots.AxesSubplot at 0x7ff0014fdd50>"
            ]
          },
          "metadata": {},
          "execution_count": 62
        },
        {
          "output_type": "display_data",
          "data": {
            "image/png": "[encoded data removed]",
            "text/plain": [
              "<Figure size 432x288 with 1 Axes>"
            ]
          },
          "metadata": {}
        }
      ]
    },
    {
      "cell_type": "markdown",
      "source": [
        "- A high percentage of accidents occurred between 7 am and 9 am (more cars on the road ) and 2 pm an 7pm ."
      ],
      "metadata": {
        "id": "x6ATt8s2BPqZ"
      }
    },
    {
      "cell_type": "code",
      "source": [
        "sns.distplot(df.Start_Time.dt.dayofweek, bins=7, kde=False, norm_hist=True)"
      ],
      "metadata": {
        "colab": {
          "base_uri": "https://localhost:8080/",
          "height": 352
        },
        "id": "OBEFW7Fc_tWh",
        "outputId": "158e78ac-6b73-40bf-b054-145493e3f3c3"
      },
      "execution_count": 64,
      "outputs": [
        {
          "output_type": "stream",
          "name": "stderr",
          "text": [
            "/usr/local/lib/python3.7/dist-packages/seaborn/distributions.py:2619: FutureWarning: `distplot` is a deprecated function and will be removed in a future version. Please adapt your code to use either `displot` (a figure-level function with similar flexibility) or `histplot` (an axes-level function for histograms).\n",
            "  warnings.warn(msg, FutureWarning)\n"
          ]
        },
        {
          "output_type": "execute_result",
          "data": {
            "text/plain": [
              "<matplotlib.axes._subplots.AxesSubplot at 0x7ff0012b5a50>"
            ]
          },
          "metadata": {},
          "execution_count": 64
        },
        {
          "output_type": "display_data",
          "data": {
            "image/png": "[encoded data removed]",
            "text/plain": [
              "<Figure size 432x288 with 1 Axes>"
            ]
          },
          "metadata": {}
        }
      ]
    },
    {
      "cell_type": "markdown",
      "source": [
        "- Is the distribution of accidents by hour the same on weekends as on weekdays ?"
      ],
      "metadata": {
        "id": "I6_W_3WUGNfN"
      }
    },
    {
      "cell_type": "code",
      "source": [
        "sundays_start_time = df.Start_Time[df.Start_Time.dt.dayofweek == 6 ]\n",
        "sns.distplot(sundays_start_time.dt.hour, bins=24, kde=False, norm_hist=True)"
      ],
      "metadata": {
        "colab": {
          "base_uri": "https://localhost:8080/",
          "height": 352
        },
        "id": "eTR2bAkE_tPV",
        "outputId": "2524f43c-6390-49d2-892c-53771b022701"
      },
      "execution_count": 70,
      "outputs": [
        {
          "output_type": "stream",
          "name": "stderr",
          "text": [
            "/usr/local/lib/python3.7/dist-packages/seaborn/distributions.py:2619: FutureWarning: `distplot` is a deprecated function and will be removed in a future version. Please adapt your code to use either `displot` (a figure-level function with similar flexibility) or `histplot` (an axes-level function for histograms).\n",
            "  warnings.warn(msg, FutureWarning)\n"
          ]
        },
        {
          "output_type": "execute_result",
          "data": {
            "text/plain": [
              "<matplotlib.axes._subplots.AxesSubplot at 0x7ff000fdbbd0>"
            ]
          },
          "metadata": {},
          "execution_count": 70
        },
        {
          "output_type": "display_data",
          "data": {
            "image/png": "[encoded data removed]",
            "text/plain": [
              "<Figure size 432x288 with 1 Axes>"
            ]
          },
          "metadata": {}
        }
      ]
    },
    {
      "cell_type": "code",
      "source": [
        "monday_start_time = df.Start_Time[df.Start_Time.dt.dayofweek == 0 ]\n",
        "sns.distplot(monday_start_time.dt.hour, bins=24, kde=False, norm_hist=True)"
      ],
      "metadata": {
        "colab": {
          "base_uri": "https://localhost:8080/",
          "height": 354
        },
        "id": "PVOIeAAS_tHd",
        "outputId": "c28efa03-2bc9-47b8-d502-7f41ca7b417a"
      },
      "execution_count": 71,
      "outputs": [
        {
          "output_type": "stream",
          "name": "stderr",
          "text": [
            "/usr/local/lib/python3.7/dist-packages/seaborn/distributions.py:2619: FutureWarning: `distplot` is a deprecated function and will be removed in a future version. Please adapt your code to use either `displot` (a figure-level function with similar flexibility) or `histplot` (an axes-level function for histograms).\n",
            "  warnings.warn(msg, FutureWarning)\n"
          ]
        },
        {
          "output_type": "execute_result",
          "data": {
            "text/plain": [
              "<matplotlib.axes._subplots.AxesSubplot at 0x7ff000f77cd0>"
            ]
          },
          "metadata": {},
          "execution_count": 71
        },
        {
          "output_type": "display_data",
          "data": {
            "image/png": "[encoded data removed]",
            "text/plain": [
              "<Figure size 432x288 with 1 Axes>"
            ]
          },
          "metadata": {}
        }
      ]
    },
    {
      "cell_type": "markdown",
      "source": [
        "# On Sundays, the peak occurs between 10 am and 3 pm , unlike weekdays."
      ],
      "metadata": {
        "id": "5JgoyMIkJNNO"
      }
    },
    {
      "cell_type": "code",
      "source": [
        "sns.distplot(df.Start_Time.dt.month, bins=12, kde=False, norm_hist=True)"
      ],
      "metadata": {
        "colab": {
          "base_uri": "https://localhost:8080/",
          "height": 352
        },
        "id": "KOvAJijtJyu0",
        "outputId": "83224a8c-57ef-4b30-b4bf-da9265a77cea"
      },
      "execution_count": 75,
      "outputs": [
        {
          "output_type": "stream",
          "name": "stderr",
          "text": [
            "/usr/local/lib/python3.7/dist-packages/seaborn/distributions.py:2619: FutureWarning: `distplot` is a deprecated function and will be removed in a future version. Please adapt your code to use either `displot` (a figure-level function with similar flexibility) or `histplot` (an axes-level function for histograms).\n",
            "  warnings.warn(msg, FutureWarning)\n"
          ]
        },
        {
          "output_type": "execute_result",
          "data": {
            "text/plain": [
              "<matplotlib.axes._subplots.AxesSubplot at 0x7ff000e26110>"
            ]
          },
          "metadata": {},
          "execution_count": 75
        },
        {
          "output_type": "display_data",
          "data": {
            "image/png": "[encoded data removed]",
            "text/plain": [
              "<Figure size 432x288 with 1 Axes>"
            ]
          },
          "metadata": {}
        }
      ]
    },
    {
      "cell_type": "markdown",
      "source": [
        "# Accidents by Month "
      ],
      "metadata": {
        "id": "QjQN1BGbLcJg"
      }
    },
    {
      "cell_type": "code",
      "source": [
        "df_2019 = df [df.Start_Time.dt.year == 2019]\n",
        "sns.distplot(df_2019.Start_Time.dt.month, bins=12, kde=False, norm_hist=True)"
      ],
      "metadata": {
        "colab": {
          "base_uri": "https://localhost:8080/",
          "height": 352
        },
        "id": "D4_Xd1fYJylg",
        "outputId": "50c96e45-08bd-494d-a35d-8691fcc28c76"
      },
      "execution_count": 79,
      "outputs": [
        {
          "output_type": "stream",
          "name": "stderr",
          "text": [
            "/usr/local/lib/python3.7/dist-packages/seaborn/distributions.py:2619: FutureWarning: `distplot` is a deprecated function and will be removed in a future version. Please adapt your code to use either `displot` (a figure-level function with similar flexibility) or `histplot` (an axes-level function for histograms).\n",
            "  warnings.warn(msg, FutureWarning)\n"
          ]
        },
        {
          "output_type": "execute_result",
          "data": {
            "text/plain": [
              "<matplotlib.axes._subplots.AxesSubplot at 0x7ff000ce1550>"
            ]
          },
          "metadata": {},
          "execution_count": 79
        },
        {
          "output_type": "display_data",
          "data": {
            "image/png": "[encoded data removed]",
            "text/plain": [
              "<Figure size 432x288 with 1 Axes>"
            ]
          },
          "metadata": {}
        }
      ]
    },
    {
      "cell_type": "markdown",
      "source": [
        "# 2019"
      ],
      "metadata": {
        "id": "D6Wdt7QbMqOP"
      }
    },
    {
      "cell_type": "code",
      "source": [
        ""
      ],
      "metadata": {
        "id": "xxPW0w__JygG"
      },
      "execution_count": null,
      "outputs": []
    },
    {
      "cell_type": "code",
      "source": [
        ""
      ],
      "metadata": {
        "id": "zHByJJfSJya1"
      },
      "execution_count": null,
      "outputs": []
    },
    {
      "cell_type": "code",
      "source": [
        ""
      ],
      "metadata": {
        "id": "QUPSRdxJJyWm"
      },
      "execution_count": null,
      "outputs": []
    },
    {
      "cell_type": "code",
      "source": [
        ""
      ],
      "metadata": {
        "id": "Dgx_yi_CJyNP"
      },
      "execution_count": null,
      "outputs": []
    },
    {
      "cell_type": "code",
      "source": [
        ""
      ],
      "metadata": {
        "id": "5le2o_8D_s8n"
      },
      "execution_count": null,
      "outputs": []
    },
    {
      "cell_type": "markdown",
      "metadata": {
        "id": "1F1qEThpPvgO"
      },
      "source": [
        "##Ask & answer questions about the data in a Jupyter notebook\n",
        "\n",
        "  1. Are there more accidents in warmer or colder areas ?\n",
        "  2. Which states have the highest number of accidents? How about per capita?\n",
        "  3. Does New York shows up in the data ? if yes why is the count lower from the most populated city.\n",
        "  4. How many accidents per state \n",
        "  5. What time of the day are accidents most frequent in ?\n",
        "  6. Which days of the week have the most accidents\n",
        "  7. Which months have the most accidents\n",
        "  8. What is the trend of accidents each year(decreasing/increasing?)\n",
        "  9. How safe is California "
      ]
    },
    {
      "cell_type": "markdown",
      "metadata": {
        "id": "1wwurOj2hsQq"
      },
      "source": [
        ""
      ]
    },
    {
      "cell_type": "code",
      "execution_count": null,
      "metadata": {
        "id": "rFzoeTpBPlyM"
      },
      "outputs": [],
      "source": [
        ""
      ]
    },
    {
      "cell_type": "code",
      "execution_count": null,
      "metadata": {
        "id": "PXTS7a6lPliR"
      },
      "outputs": [],
      "source": [
        ""
      ]
    },
    {
      "cell_type": "code",
      "execution_count": null,
      "metadata": {
        "id": "BzVUcMT5P0md"
      },
      "outputs": [],
      "source": [
        ""
      ]
    },
    {
      "cell_type": "code",
      "execution_count": null,
      "metadata": {
        "id": "RJtmIt8xP0dc"
      },
      "outputs": [],
      "source": [
        ""
      ]
    },
    {
      "cell_type": "markdown",
      "metadata": {
        "id": "w_ErA-8dP1Xk"
      },
      "source": [
        "##Summarize your inferences & write a conclusion\n"
      ]
    },
    {
      "cell_type": "code",
      "execution_count": null,
      "metadata": {
        "id": "LNLkeA0yP0UG"
      },
      "outputs": [],
      "source": [
        ""
      ]
    },
    {
      "cell_type": "markdown",
      "metadata": {
        "id": "mkruI4w_YzSu"
      },
      "source": [
        "Insights: \n",
        "- No data found from New York\n",
        "- The number of accidents per city decreases exponentally \n",
        "- Less than 2% of cities have than 1000 yearly accidents.\n",
        "- Over 1200 cities have reported just one accident(Need to investigate)\n"
      ]
    },
    {
      "cell_type": "code",
      "execution_count": null,
      "metadata": {
        "id": "Dhb-eZ6tQBpB"
      },
      "outputs": [],
      "source": [
        ""
      ]
    },
    {
      "cell_type": "code",
      "execution_count": null,
      "metadata": {
        "id": "r8GOrZNUQBeD"
      },
      "outputs": [],
      "source": [
        ""
      ]
    },
    {
      "cell_type": "code",
      "execution_count": null,
      "metadata": {
        "id": "MZWmmWKcQBW0"
      },
      "outputs": [],
      "source": [
        ""
      ]
    },
    {
      "cell_type": "markdown",
      "metadata": {
        "id": "jmWUaWZ4QCdS"
      },
      "source": [
        "##Document, publish and present and your Jupyter notebook online"
      ]
    },
    {
      "cell_type": "code",
      "execution_count": null,
      "metadata": {
        "id": "W-gEirPyQHD5"
      },
      "outputs": [],
      "source": [
        ""
      ]
    }
  ],
  "metadata": {
    "colab": {
      "collapsed_sections": [],
      "name": "us-accidents-analysis.ipynb",
      "provenance": []
    },
    "kernelspec": {
      "display_name": "Python 3 (ipykernel)",
      "language": "python",
      "name": "python3"
    },
    "language_info": {
      "codemirror_mode": {
        "name": "ipython",
        "version": 3
      },
      "file_extension": ".py",
      "mimetype": "text/x-python",
      "name": "python",
      "nbconvert_exporter": "python",
      "pygments_lexer": "ipython3",
      "version": "3.9.6"
    }
  },
  "nbformat": 4,
  "nbformat_minor": 0
}